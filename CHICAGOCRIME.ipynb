{
 "cells": [
  {
   "cell_type": "markdown",
   "metadata": {},
   "source": [
    "# Chicago Crime Analysis\n",
    "##### By Ibrahim Patel"
   ]
  },
  {
   "cell_type": "code",
   "execution_count": 1,
   "metadata": {},
   "outputs": [],
   "source": [
    "# Import Needed Libraries"
   ]
  },
  {
   "cell_type": "code",
   "execution_count": 2,
   "metadata": {},
   "outputs": [],
   "source": [
    "import pandas as pd\n",
    "import numpy as np\n",
    "import seaborn as sns\n",
    "import matplotlib.pyplot as plt\n",
    "import folium\n",
    "from folium.plugins import HeatMap,HeatMapWithTime\n"
   ]
  },
  {
   "cell_type": "code",
   "execution_count": 3,
   "metadata": {},
   "outputs": [],
   "source": [
    "# Import dataset\n",
    "df_original = pd.read_csv('Chicago_Crimes_2012_to_2017.csv.zip')"
   ]
  },
  {
   "cell_type": "code",
   "execution_count": 4,
   "metadata": {},
   "outputs": [],
   "source": [
    "# Make a copy of the dataset and work on that.\n",
    "df = df_original.copy()"
   ]
  },
  {
   "cell_type": "markdown",
   "metadata": {},
   "source": [
    "# Data Cleaning"
   ]
  },
  {
   "cell_type": "code",
   "execution_count": 5,
   "metadata": {},
   "outputs": [
    {
     "data": {
      "text/plain": [
       "33"
      ]
     },
     "execution_count": 5,
     "metadata": {},
     "output_type": "execute_result"
    }
   ],
   "source": [
    "# I want to see the number of crime types\n",
    "df['Primary Type'].nunique()"
   ]
  },
  {
   "cell_type": "code",
   "execution_count": 6,
   "metadata": {},
   "outputs": [
    {
     "data": {
      "text/plain": [
       "Unnamed: 0                  0\n",
       "ID                          0\n",
       "Case Number                 1\n",
       "Date                        0\n",
       "Block                       0\n",
       "IUCR                        0\n",
       "Primary Type                0\n",
       "Description                 0\n",
       "Location Description     1658\n",
       "Arrest                      0\n",
       "Domestic                    0\n",
       "Beat                        0\n",
       "District                    1\n",
       "Ward                       14\n",
       "Community Area             40\n",
       "FBI Code                    0\n",
       "X Coordinate            37083\n",
       "Y Coordinate            37083\n",
       "Year                        0\n",
       "Updated On                  0\n",
       "Latitude                37083\n",
       "Longitude               37083\n",
       "Location                37083\n",
       "dtype: int64"
      ]
     },
     "execution_count": 6,
     "metadata": {},
     "output_type": "execute_result"
    }
   ],
   "source": [
    "# I want to see any null values\n",
    "df.isnull().sum()"
   ]
  },
  {
   "cell_type": "code",
   "execution_count": 7,
   "metadata": {},
   "outputs": [],
   "source": [
    "# I want to drop the null values\n",
    "df.dropna(inplace = True)"
   ]
  },
  {
   "cell_type": "code",
   "execution_count": 8,
   "metadata": {},
   "outputs": [
    {
     "data": {
      "text/plain": [
       "(1418365, 23)"
      ]
     },
     "execution_count": 8,
     "metadata": {},
     "output_type": "execute_result"
    }
   ],
   "source": [
    "# I want to see how many rows and columns i have\n",
    "df.shape"
   ]
  },
  {
   "cell_type": "code",
   "execution_count": null,
   "metadata": {},
   "outputs": [],
   "source": []
  },
  {
   "cell_type": "code",
   "execution_count": 9,
   "metadata": {},
   "outputs": [
    {
     "data": {
      "text/plain": [
       "0"
      ]
     },
     "execution_count": 9,
     "metadata": {},
     "output_type": "execute_result"
    }
   ],
   "source": [
    "# Check for any duplicated values\n",
    "df.duplicated().sum()"
   ]
  },
  {
   "cell_type": "code",
   "execution_count": 10,
   "metadata": {},
   "outputs": [
    {
     "data": {
      "text/plain": [
       "Unnamed: 0                int64\n",
       "ID                        int64\n",
       "Case Number              object\n",
       "Date                     object\n",
       "Block                    object\n",
       "IUCR                     object\n",
       "Primary Type             object\n",
       "Description              object\n",
       "Location Description     object\n",
       "Arrest                     bool\n",
       "Domestic                   bool\n",
       "Beat                      int64\n",
       "District                float64\n",
       "Ward                    float64\n",
       "Community Area          float64\n",
       "FBI Code                 object\n",
       "X Coordinate            float64\n",
       "Y Coordinate            float64\n",
       "Year                      int64\n",
       "Updated On               object\n",
       "Latitude                float64\n",
       "Longitude               float64\n",
       "Location                 object\n",
       "dtype: object"
      ]
     },
     "execution_count": 10,
     "metadata": {},
     "output_type": "execute_result"
    }
   ],
   "source": [
    "# Check the data types of my columns\n",
    "df.dtypes"
   ]
  },
  {
   "cell_type": "code",
   "execution_count": 11,
   "metadata": {},
   "outputs": [
    {
     "data": {
      "text/plain": [
       "(1418365,)"
      ]
     },
     "execution_count": 11,
     "metadata": {},
     "output_type": "execute_result"
    }
   ],
   "source": [
    "# Checking the shape of my coordinates to makes sure they match\n",
    "df['Latitude'].shape"
   ]
  },
  {
   "cell_type": "code",
   "execution_count": 12,
   "metadata": {},
   "outputs": [
    {
     "data": {
      "text/plain": [
       "(1418365,)"
      ]
     },
     "execution_count": 12,
     "metadata": {},
     "output_type": "execute_result"
    }
   ],
   "source": [
    "df['Longitude'].shape"
   ]
  },
  {
   "cell_type": "code",
   "execution_count": 13,
   "metadata": {},
   "outputs": [
    {
     "data": {
      "text/plain": [
       "0          (41.864073157, -87.706818608)\n",
       "1           (41.782921527, -87.60436317)\n",
       "2          (41.894908283, -87.758371958)\n",
       "3          (41.885686845, -87.749515983)\n",
       "4          (41.886297242, -87.761750709)\n",
       "5          (41.745354023, -87.603798903)\n",
       "6          (41.844023772, -87.626923253)\n",
       "7           (41.811133958, -87.62074077)\n",
       "8           (41.99813061, -87.665814038)\n",
       "9          (41.768096835, -87.663878589)\n",
       "10         (41.761733286, -87.558309979)\n",
       "11         (41.893026751, -87.626750829)\n",
       "12         (41.877811861, -87.655758012)\n",
       "13          (41.843016958, -87.61722727)\n",
       "14         (41.910900826, -87.686018747)\n",
       "15         (41.762089133, -87.696632337)\n",
       "16         (41.908237096, -87.678437417)\n",
       "17         (41.793935909, -87.625680278)\n",
       "18         (41.711843569, -87.646607932)\n",
       "19         (41.815875211, -87.601832565)\n",
       "20         (41.910116718, -87.677444645)\n",
       "21         (41.790704614, -87.606141486)\n",
       "22         (41.927321839, -87.665810418)\n",
       "23         (41.995961517, -87.797528563)\n",
       "24         (41.889934493, -87.637619229)\n",
       "25         (41.721379795, -87.649781161)\n",
       "26          (41.925278177, -87.65936796)\n",
       "27         (41.834586177, -87.632285413)\n",
       "28           (41.814721065, -87.7054583)\n",
       "29         (41.740895923, -87.648617881)\n",
       "                       ...              \n",
       "1456684    (41.826127411, -87.669067732)\n",
       "1456685    (41.866313546, -87.713592319)\n",
       "1456686    (41.773411857, -87.671338619)\n",
       "1456687    (41.872898796, -87.694388235)\n",
       "1456688    (41.757177021, -87.638417211)\n",
       "1456689    (41.755617231, -87.644169735)\n",
       "1456690    (41.748742255, -87.613651268)\n",
       "1456691     (41.78019354, -87.599165812)\n",
       "1456692    (41.762009273, -87.572502518)\n",
       "1456693     (41.85148902, -87.728512702)\n",
       "1456694    (41.751166357, -87.664670209)\n",
       "1456695    (41.908426978, -87.693622615)\n",
       "1456696     (41.907378476, -87.64609233)\n",
       "1456697    (41.856510401, -87.705387422)\n",
       "1456698       (41.82417802, -87.6337748)\n",
       "1456699    (41.766796861, -87.623332025)\n",
       "1456700    (41.790520722, -87.622358898)\n",
       "1456701    (41.771625308, -87.706062047)\n",
       "1456702    (41.742462184, -87.649876395)\n",
       "1456703    (41.720164061, -87.657669427)\n",
       "1456704     (41.79639731, -87.723251281)\n",
       "1456705    (41.702731182, -87.534736413)\n",
       "1456706     (41.763522012, -87.69422464)\n",
       "1456707    (41.738710803, -87.652202523)\n",
       "1456708    (41.733329054, -87.660561367)\n",
       "1456709     (41.849222028, -87.69155551)\n",
       "1456710     (41.760743949, -87.63333531)\n",
       "1456711    (41.779234743, -87.685207125)\n",
       "1456712    (41.745251975, -87.552773464)\n",
       "1456713     (41.75830866, -87.620658418)\n",
       "Name: Location, Length: 1418365, dtype: object"
      ]
     },
     "execution_count": 13,
     "metadata": {},
     "output_type": "execute_result"
    }
   ],
   "source": [
    "df.Location"
   ]
  },
  {
   "cell_type": "code",
   "execution_count": 14,
   "metadata": {},
   "outputs": [
    {
     "data": {
      "text/plain": [
       "['41.864073157', ' -87.706818608']"
      ]
     },
     "execution_count": 14,
     "metadata": {},
     "output_type": "execute_result"
    }
   ],
   "source": [
    "# I am turning the coordinates into a list.\n",
    "df['Location'][0][1:-1].split(',')"
   ]
  },
  {
   "cell_type": "code",
   "execution_count": 15,
   "metadata": {},
   "outputs": [],
   "source": [
    "# I am using a map function so it applies to every cell and a lambda function that will make a function on the fly.\n",
    "# the lambda function is doing a split on each coordinate on the comma\n",
    "df['Location'] = df['Location'].map(lambda item: item[1:-1].split(','))"
   ]
  },
  {
   "cell_type": "code",
   "execution_count": 16,
   "metadata": {},
   "outputs": [],
   "source": [
    "df['Location'] = df['Location'].map(lambda x: [float(x[0]), float(x[1])])"
   ]
  },
  {
   "cell_type": "code",
   "execution_count": 17,
   "metadata": {},
   "outputs": [
    {
     "data": {
      "text/plain": [
       "Index(['Unnamed: 0', 'ID', 'Case Number', 'Date', 'Block', 'IUCR',\n",
       "       'Primary Type', 'Description', 'Location Description', 'Arrest',\n",
       "       'Domestic', 'Beat', 'District', 'Ward', 'Community Area', 'FBI Code',\n",
       "       'X Coordinate', 'Y Coordinate', 'Year', 'Updated On', 'Latitude',\n",
       "       'Longitude', 'Location'],\n",
       "      dtype='object')"
      ]
     },
     "execution_count": 17,
     "metadata": {},
     "output_type": "execute_result"
    }
   ],
   "source": [
    "# checking to see my columns\n",
    "df.columns"
   ]
  },
  {
   "cell_type": "code",
   "execution_count": 18,
   "metadata": {},
   "outputs": [
    {
     "data": {
      "text/html": [
       "<div>\n",
       "<style scoped>\n",
       "    .dataframe tbody tr th:only-of-type {\n",
       "        vertical-align: middle;\n",
       "    }\n",
       "\n",
       "    .dataframe tbody tr th {\n",
       "        vertical-align: top;\n",
       "    }\n",
       "\n",
       "    .dataframe thead th {\n",
       "        text-align: right;\n",
       "    }\n",
       "</style>\n",
       "<table border=\"1\" class=\"dataframe\">\n",
       "  <thead>\n",
       "    <tr style=\"text-align: right;\">\n",
       "      <th></th>\n",
       "      <th>Unnamed: 0</th>\n",
       "      <th>ID</th>\n",
       "      <th>Case Number</th>\n",
       "      <th>Date</th>\n",
       "      <th>Block</th>\n",
       "      <th>IUCR</th>\n",
       "      <th>Primary Type</th>\n",
       "      <th>Description</th>\n",
       "      <th>Location Description</th>\n",
       "      <th>Arrest</th>\n",
       "      <th>...</th>\n",
       "      <th>Ward</th>\n",
       "      <th>Community Area</th>\n",
       "      <th>FBI Code</th>\n",
       "      <th>X Coordinate</th>\n",
       "      <th>Y Coordinate</th>\n",
       "      <th>Year</th>\n",
       "      <th>Updated On</th>\n",
       "      <th>Latitude</th>\n",
       "      <th>Longitude</th>\n",
       "      <th>Location</th>\n",
       "    </tr>\n",
       "  </thead>\n",
       "  <tbody>\n",
       "    <tr>\n",
       "      <th>0</th>\n",
       "      <td>3</td>\n",
       "      <td>10508693</td>\n",
       "      <td>HZ250496</td>\n",
       "      <td>05/03/2016 11:40:00 PM</td>\n",
       "      <td>013XX S SAWYER AVE</td>\n",
       "      <td>0486</td>\n",
       "      <td>BATTERY</td>\n",
       "      <td>DOMESTIC BATTERY SIMPLE</td>\n",
       "      <td>APARTMENT</td>\n",
       "      <td>True</td>\n",
       "      <td>...</td>\n",
       "      <td>24.0</td>\n",
       "      <td>29.0</td>\n",
       "      <td>08B</td>\n",
       "      <td>1154907.0</td>\n",
       "      <td>1893681.0</td>\n",
       "      <td>2016</td>\n",
       "      <td>05/10/2016 03:56:50 PM</td>\n",
       "      <td>41.864073</td>\n",
       "      <td>-87.706819</td>\n",
       "      <td>[41.864073157, -87.706818608]</td>\n",
       "    </tr>\n",
       "    <tr>\n",
       "      <th>1</th>\n",
       "      <td>89</td>\n",
       "      <td>10508695</td>\n",
       "      <td>HZ250409</td>\n",
       "      <td>05/03/2016 09:40:00 PM</td>\n",
       "      <td>061XX S DREXEL AVE</td>\n",
       "      <td>0486</td>\n",
       "      <td>BATTERY</td>\n",
       "      <td>DOMESTIC BATTERY SIMPLE</td>\n",
       "      <td>RESIDENCE</td>\n",
       "      <td>False</td>\n",
       "      <td>...</td>\n",
       "      <td>20.0</td>\n",
       "      <td>42.0</td>\n",
       "      <td>08B</td>\n",
       "      <td>1183066.0</td>\n",
       "      <td>1864330.0</td>\n",
       "      <td>2016</td>\n",
       "      <td>05/10/2016 03:56:50 PM</td>\n",
       "      <td>41.782922</td>\n",
       "      <td>-87.604363</td>\n",
       "      <td>[41.782921527, -87.60436317]</td>\n",
       "    </tr>\n",
       "    <tr>\n",
       "      <th>2</th>\n",
       "      <td>197</td>\n",
       "      <td>10508697</td>\n",
       "      <td>HZ250503</td>\n",
       "      <td>05/03/2016 11:31:00 PM</td>\n",
       "      <td>053XX W CHICAGO AVE</td>\n",
       "      <td>0470</td>\n",
       "      <td>PUBLIC PEACE VIOLATION</td>\n",
       "      <td>RECKLESS CONDUCT</td>\n",
       "      <td>STREET</td>\n",
       "      <td>False</td>\n",
       "      <td>...</td>\n",
       "      <td>37.0</td>\n",
       "      <td>25.0</td>\n",
       "      <td>24</td>\n",
       "      <td>1140789.0</td>\n",
       "      <td>1904819.0</td>\n",
       "      <td>2016</td>\n",
       "      <td>05/10/2016 03:56:50 PM</td>\n",
       "      <td>41.894908</td>\n",
       "      <td>-87.758372</td>\n",
       "      <td>[41.894908283, -87.758371958]</td>\n",
       "    </tr>\n",
       "    <tr>\n",
       "      <th>3</th>\n",
       "      <td>673</td>\n",
       "      <td>10508698</td>\n",
       "      <td>HZ250424</td>\n",
       "      <td>05/03/2016 10:10:00 PM</td>\n",
       "      <td>049XX W FULTON ST</td>\n",
       "      <td>0460</td>\n",
       "      <td>BATTERY</td>\n",
       "      <td>SIMPLE</td>\n",
       "      <td>SIDEWALK</td>\n",
       "      <td>False</td>\n",
       "      <td>...</td>\n",
       "      <td>28.0</td>\n",
       "      <td>25.0</td>\n",
       "      <td>08B</td>\n",
       "      <td>1143223.0</td>\n",
       "      <td>1901475.0</td>\n",
       "      <td>2016</td>\n",
       "      <td>05/10/2016 03:56:50 PM</td>\n",
       "      <td>41.885687</td>\n",
       "      <td>-87.749516</td>\n",
       "      <td>[41.885686845, -87.749515983]</td>\n",
       "    </tr>\n",
       "    <tr>\n",
       "      <th>4</th>\n",
       "      <td>911</td>\n",
       "      <td>10508699</td>\n",
       "      <td>HZ250455</td>\n",
       "      <td>05/03/2016 10:00:00 PM</td>\n",
       "      <td>003XX N LOTUS AVE</td>\n",
       "      <td>0820</td>\n",
       "      <td>THEFT</td>\n",
       "      <td>$500 AND UNDER</td>\n",
       "      <td>RESIDENCE</td>\n",
       "      <td>False</td>\n",
       "      <td>...</td>\n",
       "      <td>28.0</td>\n",
       "      <td>25.0</td>\n",
       "      <td>06</td>\n",
       "      <td>1139890.0</td>\n",
       "      <td>1901675.0</td>\n",
       "      <td>2016</td>\n",
       "      <td>05/10/2016 03:56:50 PM</td>\n",
       "      <td>41.886297</td>\n",
       "      <td>-87.761751</td>\n",
       "      <td>[41.886297242, -87.761750709]</td>\n",
       "    </tr>\n",
       "  </tbody>\n",
       "</table>\n",
       "<p>5 rows × 23 columns</p>\n",
       "</div>"
      ],
      "text/plain": [
       "   Unnamed: 0        ID Case Number                    Date  \\\n",
       "0           3  10508693    HZ250496  05/03/2016 11:40:00 PM   \n",
       "1          89  10508695    HZ250409  05/03/2016 09:40:00 PM   \n",
       "2         197  10508697    HZ250503  05/03/2016 11:31:00 PM   \n",
       "3         673  10508698    HZ250424  05/03/2016 10:10:00 PM   \n",
       "4         911  10508699    HZ250455  05/03/2016 10:00:00 PM   \n",
       "\n",
       "                 Block  IUCR            Primary Type              Description  \\\n",
       "0   013XX S SAWYER AVE  0486                 BATTERY  DOMESTIC BATTERY SIMPLE   \n",
       "1   061XX S DREXEL AVE  0486                 BATTERY  DOMESTIC BATTERY SIMPLE   \n",
       "2  053XX W CHICAGO AVE  0470  PUBLIC PEACE VIOLATION         RECKLESS CONDUCT   \n",
       "3    049XX W FULTON ST  0460                 BATTERY                   SIMPLE   \n",
       "4    003XX N LOTUS AVE  0820                   THEFT           $500 AND UNDER   \n",
       "\n",
       "  Location Description  Arrest  ...  Ward  Community Area  FBI Code  \\\n",
       "0            APARTMENT    True  ...  24.0            29.0       08B   \n",
       "1            RESIDENCE   False  ...  20.0            42.0       08B   \n",
       "2               STREET   False  ...  37.0            25.0        24   \n",
       "3             SIDEWALK   False  ...  28.0            25.0       08B   \n",
       "4            RESIDENCE   False  ...  28.0            25.0        06   \n",
       "\n",
       "   X Coordinate  Y Coordinate  Year              Updated On   Latitude  \\\n",
       "0     1154907.0     1893681.0  2016  05/10/2016 03:56:50 PM  41.864073   \n",
       "1     1183066.0     1864330.0  2016  05/10/2016 03:56:50 PM  41.782922   \n",
       "2     1140789.0     1904819.0  2016  05/10/2016 03:56:50 PM  41.894908   \n",
       "3     1143223.0     1901475.0  2016  05/10/2016 03:56:50 PM  41.885687   \n",
       "4     1139890.0     1901675.0  2016  05/10/2016 03:56:50 PM  41.886297   \n",
       "\n",
       "   Longitude                       Location  \n",
       "0 -87.706819  [41.864073157, -87.706818608]  \n",
       "1 -87.604363   [41.782921527, -87.60436317]  \n",
       "2 -87.758372  [41.894908283, -87.758371958]  \n",
       "3 -87.749516  [41.885686845, -87.749515983]  \n",
       "4 -87.761751  [41.886297242, -87.761750709]  \n",
       "\n",
       "[5 rows x 23 columns]"
      ]
     },
     "execution_count": 18,
     "metadata": {},
     "output_type": "execute_result"
    }
   ],
   "source": [
    "df.head()"
   ]
  },
  {
   "cell_type": "code",
   "execution_count": 19,
   "metadata": {},
   "outputs": [],
   "source": [
    "# Dropped any columns I felt like I did not need.\n",
    "df = df.drop(['FBI Code','X Coordinate', 'Y Coordinate','Beat','Updated On'], axis = 1)"
   ]
  },
  {
   "cell_type": "code",
   "execution_count": 20,
   "metadata": {},
   "outputs": [
    {
     "data": {
      "text/plain": [
       "Index(['Unnamed: 0', 'ID', 'Case Number', 'Date', 'Block', 'IUCR',\n",
       "       'Primary Type', 'Description', 'Location Description', 'Arrest',\n",
       "       'Domestic', 'District', 'Ward', 'Community Area', 'Year', 'Latitude',\n",
       "       'Longitude', 'Location'],\n",
       "      dtype='object')"
      ]
     },
     "execution_count": 20,
     "metadata": {},
     "output_type": "execute_result"
    }
   ],
   "source": [
    "df.columns"
   ]
  },
  {
   "cell_type": "code",
   "execution_count": 21,
   "metadata": {},
   "outputs": [
    {
     "data": {
      "text/plain": [
       "18"
      ]
     },
     "execution_count": 21,
     "metadata": {},
     "output_type": "execute_result"
    }
   ],
   "source": [
    "# Check to see my number of columns\n",
    "len(df.columns)"
   ]
  },
  {
   "cell_type": "code",
   "execution_count": 22,
   "metadata": {},
   "outputs": [
    {
     "data": {
      "text/plain": [
       "(1418365, 18)"
      ]
     },
     "execution_count": 22,
     "metadata": {},
     "output_type": "execute_result"
    }
   ],
   "source": [
    "# Check the shape of my data after all the cleaning\n",
    "df.shape"
   ]
  },
  {
   "cell_type": "code",
   "execution_count": 23,
   "metadata": {},
   "outputs": [
    {
     "data": {
      "text/html": [
       "<div>\n",
       "<style scoped>\n",
       "    .dataframe tbody tr th:only-of-type {\n",
       "        vertical-align: middle;\n",
       "    }\n",
       "\n",
       "    .dataframe tbody tr th {\n",
       "        vertical-align: top;\n",
       "    }\n",
       "\n",
       "    .dataframe thead th {\n",
       "        text-align: right;\n",
       "    }\n",
       "</style>\n",
       "<table border=\"1\" class=\"dataframe\">\n",
       "  <thead>\n",
       "    <tr style=\"text-align: right;\">\n",
       "      <th></th>\n",
       "      <th>Unnamed: 0</th>\n",
       "      <th>ID</th>\n",
       "      <th>Case Number</th>\n",
       "      <th>Date</th>\n",
       "      <th>Block</th>\n",
       "      <th>IUCR</th>\n",
       "      <th>Primary Type</th>\n",
       "      <th>Description</th>\n",
       "      <th>Location Description</th>\n",
       "      <th>Arrest</th>\n",
       "      <th>Domestic</th>\n",
       "      <th>District</th>\n",
       "      <th>Ward</th>\n",
       "      <th>Community Area</th>\n",
       "      <th>Year</th>\n",
       "      <th>Latitude</th>\n",
       "      <th>Longitude</th>\n",
       "      <th>Location</th>\n",
       "    </tr>\n",
       "  </thead>\n",
       "  <tbody>\n",
       "    <tr>\n",
       "      <th>0</th>\n",
       "      <td>3</td>\n",
       "      <td>10508693</td>\n",
       "      <td>HZ250496</td>\n",
       "      <td>05/03/2016 11:40:00 PM</td>\n",
       "      <td>013XX S SAWYER AVE</td>\n",
       "      <td>0486</td>\n",
       "      <td>BATTERY</td>\n",
       "      <td>DOMESTIC BATTERY SIMPLE</td>\n",
       "      <td>APARTMENT</td>\n",
       "      <td>True</td>\n",
       "      <td>True</td>\n",
       "      <td>10.0</td>\n",
       "      <td>24.0</td>\n",
       "      <td>29.0</td>\n",
       "      <td>2016</td>\n",
       "      <td>41.864073</td>\n",
       "      <td>-87.706819</td>\n",
       "      <td>[41.864073157, -87.706818608]</td>\n",
       "    </tr>\n",
       "    <tr>\n",
       "      <th>1</th>\n",
       "      <td>89</td>\n",
       "      <td>10508695</td>\n",
       "      <td>HZ250409</td>\n",
       "      <td>05/03/2016 09:40:00 PM</td>\n",
       "      <td>061XX S DREXEL AVE</td>\n",
       "      <td>0486</td>\n",
       "      <td>BATTERY</td>\n",
       "      <td>DOMESTIC BATTERY SIMPLE</td>\n",
       "      <td>RESIDENCE</td>\n",
       "      <td>False</td>\n",
       "      <td>True</td>\n",
       "      <td>3.0</td>\n",
       "      <td>20.0</td>\n",
       "      <td>42.0</td>\n",
       "      <td>2016</td>\n",
       "      <td>41.782922</td>\n",
       "      <td>-87.604363</td>\n",
       "      <td>[41.782921527, -87.60436317]</td>\n",
       "    </tr>\n",
       "    <tr>\n",
       "      <th>2</th>\n",
       "      <td>197</td>\n",
       "      <td>10508697</td>\n",
       "      <td>HZ250503</td>\n",
       "      <td>05/03/2016 11:31:00 PM</td>\n",
       "      <td>053XX W CHICAGO AVE</td>\n",
       "      <td>0470</td>\n",
       "      <td>PUBLIC PEACE VIOLATION</td>\n",
       "      <td>RECKLESS CONDUCT</td>\n",
       "      <td>STREET</td>\n",
       "      <td>False</td>\n",
       "      <td>False</td>\n",
       "      <td>15.0</td>\n",
       "      <td>37.0</td>\n",
       "      <td>25.0</td>\n",
       "      <td>2016</td>\n",
       "      <td>41.894908</td>\n",
       "      <td>-87.758372</td>\n",
       "      <td>[41.894908283, -87.758371958]</td>\n",
       "    </tr>\n",
       "    <tr>\n",
       "      <th>3</th>\n",
       "      <td>673</td>\n",
       "      <td>10508698</td>\n",
       "      <td>HZ250424</td>\n",
       "      <td>05/03/2016 10:10:00 PM</td>\n",
       "      <td>049XX W FULTON ST</td>\n",
       "      <td>0460</td>\n",
       "      <td>BATTERY</td>\n",
       "      <td>SIMPLE</td>\n",
       "      <td>SIDEWALK</td>\n",
       "      <td>False</td>\n",
       "      <td>False</td>\n",
       "      <td>15.0</td>\n",
       "      <td>28.0</td>\n",
       "      <td>25.0</td>\n",
       "      <td>2016</td>\n",
       "      <td>41.885687</td>\n",
       "      <td>-87.749516</td>\n",
       "      <td>[41.885686845, -87.749515983]</td>\n",
       "    </tr>\n",
       "    <tr>\n",
       "      <th>4</th>\n",
       "      <td>911</td>\n",
       "      <td>10508699</td>\n",
       "      <td>HZ250455</td>\n",
       "      <td>05/03/2016 10:00:00 PM</td>\n",
       "      <td>003XX N LOTUS AVE</td>\n",
       "      <td>0820</td>\n",
       "      <td>THEFT</td>\n",
       "      <td>$500 AND UNDER</td>\n",
       "      <td>RESIDENCE</td>\n",
       "      <td>False</td>\n",
       "      <td>True</td>\n",
       "      <td>15.0</td>\n",
       "      <td>28.0</td>\n",
       "      <td>25.0</td>\n",
       "      <td>2016</td>\n",
       "      <td>41.886297</td>\n",
       "      <td>-87.761751</td>\n",
       "      <td>[41.886297242, -87.761750709]</td>\n",
       "    </tr>\n",
       "  </tbody>\n",
       "</table>\n",
       "</div>"
      ],
      "text/plain": [
       "   Unnamed: 0        ID Case Number                    Date  \\\n",
       "0           3  10508693    HZ250496  05/03/2016 11:40:00 PM   \n",
       "1          89  10508695    HZ250409  05/03/2016 09:40:00 PM   \n",
       "2         197  10508697    HZ250503  05/03/2016 11:31:00 PM   \n",
       "3         673  10508698    HZ250424  05/03/2016 10:10:00 PM   \n",
       "4         911  10508699    HZ250455  05/03/2016 10:00:00 PM   \n",
       "\n",
       "                 Block  IUCR            Primary Type              Description  \\\n",
       "0   013XX S SAWYER AVE  0486                 BATTERY  DOMESTIC BATTERY SIMPLE   \n",
       "1   061XX S DREXEL AVE  0486                 BATTERY  DOMESTIC BATTERY SIMPLE   \n",
       "2  053XX W CHICAGO AVE  0470  PUBLIC PEACE VIOLATION         RECKLESS CONDUCT   \n",
       "3    049XX W FULTON ST  0460                 BATTERY                   SIMPLE   \n",
       "4    003XX N LOTUS AVE  0820                   THEFT           $500 AND UNDER   \n",
       "\n",
       "  Location Description  Arrest  Domestic  District  Ward  Community Area  \\\n",
       "0            APARTMENT    True      True      10.0  24.0            29.0   \n",
       "1            RESIDENCE   False      True       3.0  20.0            42.0   \n",
       "2               STREET   False     False      15.0  37.0            25.0   \n",
       "3             SIDEWALK   False     False      15.0  28.0            25.0   \n",
       "4            RESIDENCE   False      True      15.0  28.0            25.0   \n",
       "\n",
       "   Year   Latitude  Longitude                       Location  \n",
       "0  2016  41.864073 -87.706819  [41.864073157, -87.706818608]  \n",
       "1  2016  41.782922 -87.604363   [41.782921527, -87.60436317]  \n",
       "2  2016  41.894908 -87.758372  [41.894908283, -87.758371958]  \n",
       "3  2016  41.885687 -87.749516  [41.885686845, -87.749515983]  \n",
       "4  2016  41.886297 -87.761751  [41.886297242, -87.761750709]  "
      ]
     },
     "execution_count": 23,
     "metadata": {},
     "output_type": "execute_result"
    }
   ],
   "source": [
    "df.head()"
   ]
  },
  {
   "cell_type": "code",
   "execution_count": 24,
   "metadata": {},
   "outputs": [
    {
     "data": {
      "text/plain": [
       "THEFT                                321950\n",
       "BATTERY                              258941\n",
       "CRIMINAL DAMAGE                      152812\n",
       "NARCOTICS                            131177\n",
       "ASSAULT                               89508\n",
       "OTHER OFFENSE                         85361\n",
       "BURGLARY                              81668\n",
       "DECEPTIVE PRACTICE                    67609\n",
       "MOTOR VEHICLE THEFT                   59856\n",
       "ROBBERY                               56092\n",
       "CRIMINAL TRESPASS                     36429\n",
       "WEAPONS VIOLATION                     16983\n",
       "PUBLIC PEACE VIOLATION                13015\n",
       "OFFENSE INVOLVING CHILDREN            10590\n",
       "PROSTITUTION                           7567\n",
       "CRIM SEXUAL ASSAULT                    6298\n",
       "INTERFERENCE WITH PUBLIC OFFICER       6136\n",
       "SEX OFFENSE                            4491\n",
       "HOMICIDE                               2590\n",
       "GAMBLING                               2211\n",
       "ARSON                                  2175\n",
       "LIQUOR LAW VIOLATION                   1928\n",
       "KIDNAPPING                             1075\n",
       "STALKING                                774\n",
       "INTIMIDATION                            643\n",
       "OBSCENITY                               169\n",
       "CONCEALED CARRY LICENSE VIOLATION        84\n",
       "NON-CRIMINAL                             80\n",
       "PUBLIC INDECENCY                         61\n",
       "NON - CRIMINAL                           38\n",
       "OTHER NARCOTIC VIOLATION                 30\n",
       "HUMAN TRAFFICKING                        20\n",
       "NON-CRIMINAL (SUBJECT SPECIFIED)          4\n",
       "Name: Primary Type, dtype: int64"
      ]
     },
     "execution_count": 24,
     "metadata": {},
     "output_type": "execute_result"
    }
   ],
   "source": [
    "# Get the value counts of the crimes committed\n",
    "df['Primary Type'].value_counts()"
   ]
  },
  {
   "cell_type": "code",
   "execution_count": 25,
   "metadata": {},
   "outputs": [],
   "source": [
    "# df of all the murders\n",
    "homies_df =  df[df['Primary Type'] == 'HOMICIDE']"
   ]
  },
  {
   "cell_type": "code",
   "execution_count": 26,
   "metadata": {},
   "outputs": [],
   "source": [
    "# Data Frame of all Narcotics\n",
    "drugs_df = df[df['Primary Type']== 'NARCOTICS']"
   ]
  },
  {
   "cell_type": "code",
   "execution_count": 27,
   "metadata": {},
   "outputs": [
    {
     "data": {
      "text/plain": [
       "(131177, 18)"
      ]
     },
     "execution_count": 27,
     "metadata": {},
     "output_type": "execute_result"
    }
   ],
   "source": [
    "drugs_df.shape"
   ]
  },
  {
   "cell_type": "code",
   "execution_count": 28,
   "metadata": {},
   "outputs": [
    {
     "data": {
      "text/plain": [
       "(2590, 18)"
      ]
     },
     "execution_count": 28,
     "metadata": {},
     "output_type": "execute_result"
    }
   ],
   "source": [
    "homies_df.shape"
   ]
  },
  {
   "cell_type": "code",
   "execution_count": 29,
   "metadata": {},
   "outputs": [
    {
     "data": {
      "text/plain": [
       "False    1731\n",
       "True      859\n",
       "Name: Arrest, dtype: int64"
      ]
     },
     "execution_count": 29,
     "metadata": {},
     "output_type": "execute_result"
    }
   ],
   "source": [
    "# See the nummbers of arrest made for homicides\n",
    "homies_df['Arrest'].value_counts()"
   ]
  },
  {
   "cell_type": "code",
   "execution_count": 30,
   "metadata": {},
   "outputs": [],
   "source": [
    "# Group each crime by Location, then reset the index so they become columns\n",
    "location = homies_df.groupby(['Latitude','Longitude']).agg({'ID':'count'}).reset_index()"
   ]
  },
  {
   "cell_type": "code",
   "execution_count": 31,
   "metadata": {},
   "outputs": [],
   "source": [
    "# Rename the column ID to count\n",
    "location=  location.rename({'ID':'Count'}, axis=1)"
   ]
  },
  {
   "cell_type": "code",
   "execution_count": 32,
   "metadata": {},
   "outputs": [],
   "source": [
    "# I turned the homicides location into a list so it would be easy to put in the heatmap.\n",
    "homi_cords = [(x[0],x[1],x[2]) for x in location.values]"
   ]
  },
  {
   "cell_type": "code",
   "execution_count": 33,
   "metadata": {},
   "outputs": [],
   "source": [
    "homi_cords;"
   ]
  },
  {
   "cell_type": "markdown",
   "metadata": {},
   "source": [
    "# Visualizations"
   ]
  },
  {
   "cell_type": "code",
   "execution_count": 34,
   "metadata": {},
   "outputs": [
    {
     "data": {
      "text/html": [
       "<div style=\"width:100%;\"><div style=\"position:relative;width:100%;height:0;padding-bottom:60%;\"><iframe src=\"data:text/html;charset=utf-8;base64,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\" style=\"position:absolute;width:100%;height:100%;left:0;top:0;border:none !important;\" allowfullscreen webkitallowfullscreen mozallowfullscreen></iframe></div></div>"
      ],
      "text/plain": [
       "<folium.folium.Map at 0x1a717e4358>"
      ]
     },
     "execution_count": 34,
     "metadata": {},
     "output_type": "execute_result"
    }
   ],
   "source": [
    "# I Used the mean latitude and longitude to create a base map of chicago.\n",
    "\n",
    "chicago = folium.Map([homies_df['Latitude'].mean(), homies_df['Longitude'].mean()], zoom_start = 10)\n",
    "HeatMap(homi_cords, radius = 10).add_to(chicago)\n",
    "\n",
    "\n",
    "chicago"
   ]
  },
  {
   "cell_type": "code",
   "execution_count": 35,
   "metadata": {},
   "outputs": [
    {
     "data": {
      "text/plain": [
       "<folium.plugins.heat_map.HeatMap at 0x1a5c3ee6a0>"
      ]
     },
     "execution_count": 35,
     "metadata": {},
     "output_type": "execute_result"
    }
   ],
   "source": [
    "HeatMap(homi_cords, radius = 5).add_to(chicago)\n"
   ]
  },
  {
   "cell_type": "code",
   "execution_count": null,
   "metadata": {},
   "outputs": [],
   "source": []
  },
  {
   "cell_type": "code",
   "execution_count": 36,
   "metadata": {},
   "outputs": [
    {
     "data": {
      "text/html": [
       "<div>\n",
       "<style scoped>\n",
       "    .dataframe tbody tr th:only-of-type {\n",
       "        vertical-align: middle;\n",
       "    }\n",
       "\n",
       "    .dataframe tbody tr th {\n",
       "        vertical-align: top;\n",
       "    }\n",
       "\n",
       "    .dataframe thead th {\n",
       "        text-align: right;\n",
       "    }\n",
       "</style>\n",
       "<table border=\"1\" class=\"dataframe\">\n",
       "  <thead>\n",
       "    <tr style=\"text-align: right;\">\n",
       "      <th></th>\n",
       "      <th>Unnamed: 0</th>\n",
       "      <th>ID</th>\n",
       "      <th>Case Number</th>\n",
       "      <th>Date</th>\n",
       "      <th>Block</th>\n",
       "      <th>IUCR</th>\n",
       "      <th>Primary Type</th>\n",
       "      <th>Description</th>\n",
       "      <th>Location Description</th>\n",
       "      <th>Arrest</th>\n",
       "      <th>Domestic</th>\n",
       "      <th>District</th>\n",
       "      <th>Ward</th>\n",
       "      <th>Community Area</th>\n",
       "      <th>Year</th>\n",
       "      <th>Latitude</th>\n",
       "      <th>Longitude</th>\n",
       "      <th>Location</th>\n",
       "    </tr>\n",
       "  </thead>\n",
       "  <tbody>\n",
       "    <tr>\n",
       "      <th>0</th>\n",
       "      <td>3</td>\n",
       "      <td>10508693</td>\n",
       "      <td>HZ250496</td>\n",
       "      <td>05/03/2016 11:40:00 PM</td>\n",
       "      <td>013XX S SAWYER AVE</td>\n",
       "      <td>0486</td>\n",
       "      <td>BATTERY</td>\n",
       "      <td>DOMESTIC BATTERY SIMPLE</td>\n",
       "      <td>APARTMENT</td>\n",
       "      <td>True</td>\n",
       "      <td>True</td>\n",
       "      <td>10.0</td>\n",
       "      <td>24.0</td>\n",
       "      <td>29.0</td>\n",
       "      <td>2016</td>\n",
       "      <td>41.864073</td>\n",
       "      <td>-87.706819</td>\n",
       "      <td>[41.864073157, -87.706818608]</td>\n",
       "    </tr>\n",
       "    <tr>\n",
       "      <th>10</th>\n",
       "      <td>1935</td>\n",
       "      <td>10508710</td>\n",
       "      <td>HZ250469</td>\n",
       "      <td>05/03/2016 09:44:00 PM</td>\n",
       "      <td>074XX S SOUTH SHORE DR</td>\n",
       "      <td>143A</td>\n",
       "      <td>WEAPONS VIOLATION</td>\n",
       "      <td>UNLAWFUL POSS OF HANDGUN</td>\n",
       "      <td>VEHICLE NON-COMMERCIAL</td>\n",
       "      <td>True</td>\n",
       "      <td>False</td>\n",
       "      <td>3.0</td>\n",
       "      <td>7.0</td>\n",
       "      <td>43.0</td>\n",
       "      <td>2016</td>\n",
       "      <td>41.761733</td>\n",
       "      <td>-87.558310</td>\n",
       "      <td>[41.761733286, -87.558309979]</td>\n",
       "    </tr>\n",
       "    <tr>\n",
       "      <th>11</th>\n",
       "      <td>2150</td>\n",
       "      <td>10508715</td>\n",
       "      <td>HZ250541</td>\n",
       "      <td>05/03/2016 11:11:00 PM</td>\n",
       "      <td>006XX N WABASH AVE</td>\n",
       "      <td>0486</td>\n",
       "      <td>BATTERY</td>\n",
       "      <td>DOMESTIC BATTERY SIMPLE</td>\n",
       "      <td>SIDEWALK</td>\n",
       "      <td>True</td>\n",
       "      <td>True</td>\n",
       "      <td>18.0</td>\n",
       "      <td>42.0</td>\n",
       "      <td>8.0</td>\n",
       "      <td>2016</td>\n",
       "      <td>41.893027</td>\n",
       "      <td>-87.626751</td>\n",
       "      <td>[41.893026751, -87.626750829]</td>\n",
       "    </tr>\n",
       "    <tr>\n",
       "      <th>56</th>\n",
       "      <td>11666</td>\n",
       "      <td>10509422</td>\n",
       "      <td>HZ250945</td>\n",
       "      <td>05/04/2016 11:15:00 AM</td>\n",
       "      <td>083XX S STEWART AVE</td>\n",
       "      <td>0860</td>\n",
       "      <td>THEFT</td>\n",
       "      <td>RETAIL THEFT</td>\n",
       "      <td>SMALL RETAIL STORE</td>\n",
       "      <td>True</td>\n",
       "      <td>False</td>\n",
       "      <td>6.0</td>\n",
       "      <td>21.0</td>\n",
       "      <td>44.0</td>\n",
       "      <td>2016</td>\n",
       "      <td>41.742710</td>\n",
       "      <td>-87.634088</td>\n",
       "      <td>[41.742710224, -87.634088181]</td>\n",
       "    </tr>\n",
       "    <tr>\n",
       "      <th>82</th>\n",
       "      <td>18272</td>\n",
       "      <td>10509460</td>\n",
       "      <td>HZ250952</td>\n",
       "      <td>05/04/2016 11:30:00 AM</td>\n",
       "      <td>071XX S JEFFERY BLVD</td>\n",
       "      <td>1330</td>\n",
       "      <td>CRIMINAL TRESPASS</td>\n",
       "      <td>TO LAND</td>\n",
       "      <td>DRUG STORE</td>\n",
       "      <td>True</td>\n",
       "      <td>False</td>\n",
       "      <td>3.0</td>\n",
       "      <td>5.0</td>\n",
       "      <td>43.0</td>\n",
       "      <td>2016</td>\n",
       "      <td>41.765756</td>\n",
       "      <td>-87.576292</td>\n",
       "      <td>[41.765755571, -87.576292427]</td>\n",
       "    </tr>\n",
       "  </tbody>\n",
       "</table>\n",
       "</div>"
      ],
      "text/plain": [
       "    Unnamed: 0        ID Case Number                    Date  \\\n",
       "0            3  10508693    HZ250496  05/03/2016 11:40:00 PM   \n",
       "10        1935  10508710    HZ250469  05/03/2016 09:44:00 PM   \n",
       "11        2150  10508715    HZ250541  05/03/2016 11:11:00 PM   \n",
       "56       11666  10509422    HZ250945  05/04/2016 11:15:00 AM   \n",
       "82       18272  10509460    HZ250952  05/04/2016 11:30:00 AM   \n",
       "\n",
       "                     Block  IUCR       Primary Type               Description  \\\n",
       "0       013XX S SAWYER AVE  0486            BATTERY   DOMESTIC BATTERY SIMPLE   \n",
       "10  074XX S SOUTH SHORE DR  143A  WEAPONS VIOLATION  UNLAWFUL POSS OF HANDGUN   \n",
       "11      006XX N WABASH AVE  0486            BATTERY   DOMESTIC BATTERY SIMPLE   \n",
       "56     083XX S STEWART AVE  0860              THEFT              RETAIL THEFT   \n",
       "82    071XX S JEFFERY BLVD  1330  CRIMINAL TRESPASS                   TO LAND   \n",
       "\n",
       "      Location Description  Arrest  Domestic  District  Ward  Community Area  \\\n",
       "0                APARTMENT    True      True      10.0  24.0            29.0   \n",
       "10  VEHICLE NON-COMMERCIAL    True     False       3.0   7.0            43.0   \n",
       "11                SIDEWALK    True      True      18.0  42.0             8.0   \n",
       "56      SMALL RETAIL STORE    True     False       6.0  21.0            44.0   \n",
       "82              DRUG STORE    True     False       3.0   5.0            43.0   \n",
       "\n",
       "    Year   Latitude  Longitude                       Location  \n",
       "0   2016  41.864073 -87.706819  [41.864073157, -87.706818608]  \n",
       "10  2016  41.761733 -87.558310  [41.761733286, -87.558309979]  \n",
       "11  2016  41.893027 -87.626751  [41.893026751, -87.626750829]  \n",
       "56  2016  41.742710 -87.634088  [41.742710224, -87.634088181]  \n",
       "82  2016  41.765756 -87.576292  [41.765755571, -87.576292427]  "
      ]
     },
     "execution_count": 36,
     "metadata": {},
     "output_type": "execute_result"
    }
   ],
   "source": [
    "# Made a dataframe of all the arrest made\n",
    "arrest_df = df[df['Arrest']== True]\n",
    "arrest_df.head()"
   ]
  },
  {
   "cell_type": "code",
   "execution_count": 37,
   "metadata": {},
   "outputs": [
    {
     "data": {
      "text/plain": [
       "NARCOTICS                            130277\n",
       "BATTERY                               59999\n",
       "THEFT                                 36301\n",
       "CRIMINAL TRESPASS                     25714\n",
       "ASSAULT                               21180\n",
       "OTHER OFFENSE                         18318\n",
       "WEAPONS VIOLATION                     13593\n",
       "CRIMINAL DAMAGE                       10077\n",
       "PUBLIC PEACE VIOLATION                 9910\n",
       "DECEPTIVE PRACTICE                     8787\n",
       "PROSTITUTION                           7533\n",
       "INTERFERENCE WITH PUBLIC OFFICER       5816\n",
       "ROBBERY                                5436\n",
       "BURGLARY                               4428\n",
       "MOTOR VEHICLE THEFT                    4199\n",
       "GAMBLING                               2204\n",
       "LIQUOR LAW VIOLATION                   1887\n",
       "OFFENSE INVOLVING CHILDREN             1755\n",
       "SEX OFFENSE                            1153\n",
       "HOMICIDE                                859\n",
       "CRIM SEXUAL ASSAULT                     762\n",
       "ARSON                                   215\n",
       "STALKING                                136\n",
       "OBSCENITY                               134\n",
       "INTIMIDATION                            116\n",
       "KIDNAPPING                               98\n",
       "CONCEALED CARRY LICENSE VIOLATION        72\n",
       "PUBLIC INDECENCY                         61\n",
       "OTHER NARCOTIC VIOLATION                 21\n",
       "NON-CRIMINAL                              7\n",
       "NON - CRIMINAL                            6\n",
       "HUMAN TRAFFICKING                         2\n",
       "NON-CRIMINAL (SUBJECT SPECIFIED)          1\n",
       "Name: Primary Type, dtype: int64"
      ]
     },
     "execution_count": 37,
     "metadata": {},
     "output_type": "execute_result"
    }
   ],
   "source": [
    "# Wanted to see whats are crimes where the most arrest were made\n",
    "arrest_df['Primary Type'].value_counts()"
   ]
  },
  {
   "cell_type": "code",
   "execution_count": 38,
   "metadata": {},
   "outputs": [
    {
     "data": {
      "text/plain": [
       "HOMICIDE                             2590\n",
       "GAMBLING                             2211\n",
       "ARSON                                2175\n",
       "LIQUOR LAW VIOLATION                 1928\n",
       "KIDNAPPING                           1075\n",
       "STALKING                              774\n",
       "INTIMIDATION                          643\n",
       "OBSCENITY                             169\n",
       "CONCEALED CARRY LICENSE VIOLATION      84\n",
       "NON-CRIMINAL                           80\n",
       "PUBLIC INDECENCY                       61\n",
       "NON - CRIMINAL                         38\n",
       "OTHER NARCOTIC VIOLATION               30\n",
       "HUMAN TRAFFICKING                      20\n",
       "NON-CRIMINAL (SUBJECT SPECIFIED)        4\n",
       "Name: Primary Type, dtype: int64"
      ]
     },
     "execution_count": 38,
     "metadata": {},
     "output_type": "execute_result"
    }
   ],
   "source": [
    "# The 15 lowest occurring types of crimes.\n",
    "df['Primary Type'].value_counts()[-15:]"
   ]
  },
  {
   "cell_type": "code",
   "execution_count": 39,
   "metadata": {},
   "outputs": [
    {
     "data": {
      "text/plain": [
       "THEFT                         321950\n",
       "BATTERY                       258941\n",
       "CRIMINAL DAMAGE               152812\n",
       "NARCOTICS                     131177\n",
       "ASSAULT                        89508\n",
       "OTHER OFFENSE                  85361\n",
       "BURGLARY                       81668\n",
       "DECEPTIVE PRACTICE             67609\n",
       "MOTOR VEHICLE THEFT            59856\n",
       "ROBBERY                        56092\n",
       "CRIMINAL TRESPASS              36429\n",
       "WEAPONS VIOLATION              16983\n",
       "PUBLIC PEACE VIOLATION         13015\n",
       "OFFENSE INVOLVING CHILDREN     10590\n",
       "PROSTITUTION                    7567\n",
       "CRIM SEXUAL ASSAULT             6298\n",
       "Name: Primary Type, dtype: int64"
      ]
     },
     "execution_count": 39,
     "metadata": {},
     "output_type": "execute_result"
    }
   ],
   "source": [
    "df['Primary Type'].value_counts()[:-17]"
   ]
  },
  {
   "cell_type": "code",
   "execution_count": 40,
   "metadata": {},
   "outputs": [],
   "source": [
    "# Made a dataframe where there are certain crimes in primary types. These are the top 15 crimes\n",
    "n_df= df[df['Primary Type'].isin(['THEFT','BATTERY','CRIMINAL DAMAGE','NARCOTICS','ASSAULT',                      \n",
    "'OTHER OFFENSE' ,'BURGLARY' ,'DECEPTIVE PRACTICE','MOTOR VEHICLE THEFT','ROBBERY',\n",
    "'CRIMINAL TRESPASS', 'WEAPONS VIOLATION','PUBLIC PEACE VIOLATION','OFFENSE INVOLVING CHILDREN',\n",
    "'CRIM SEXUAL ASSAULT'])]"
   ]
  },
  {
   "cell_type": "code",
   "execution_count": 41,
   "metadata": {},
   "outputs": [
    {
     "data": {
      "text/plain": [
       "THEFT                         321950\n",
       "BATTERY                       258941\n",
       "CRIMINAL DAMAGE               152812\n",
       "NARCOTICS                     131177\n",
       "ASSAULT                        89508\n",
       "OTHER OFFENSE                  85361\n",
       "BURGLARY                       81668\n",
       "DECEPTIVE PRACTICE             67609\n",
       "MOTOR VEHICLE THEFT            59856\n",
       "ROBBERY                        56092\n",
       "CRIMINAL TRESPASS              36429\n",
       "WEAPONS VIOLATION              16983\n",
       "PUBLIC PEACE VIOLATION         13015\n",
       "OFFENSE INVOLVING CHILDREN     10590\n",
       "CRIM SEXUAL ASSAULT             6298\n",
       "Name: Primary Type, dtype: int64"
      ]
     },
     "execution_count": 41,
     "metadata": {},
     "output_type": "execute_result"
    }
   ],
   "source": [
    "n_df['Primary Type'].value_counts()"
   ]
  },
  {
   "cell_type": "code",
   "execution_count": 42,
   "metadata": {},
   "outputs": [
    {
     "data": {
      "text/plain": [
       "(1388289, 18)"
      ]
     },
     "execution_count": 42,
     "metadata": {},
     "output_type": "execute_result"
    }
   ],
   "source": [
    "n_df.shape"
   ]
  },
  {
   "cell_type": "code",
   "execution_count": null,
   "metadata": {},
   "outputs": [],
   "source": []
  },
  {
   "cell_type": "code",
   "execution_count": 43,
   "metadata": {},
   "outputs": [],
   "source": [
    "# make a new data frame of just the crime types and their count\n",
    "brand_newdf = n_df['Primary Type']"
   ]
  },
  {
   "cell_type": "code",
   "execution_count": 44,
   "metadata": {},
   "outputs": [
    {
     "data": {
      "text/plain": [
       "THEFT                         321950\n",
       "BATTERY                       258941\n",
       "CRIMINAL DAMAGE               152812\n",
       "NARCOTICS                     131177\n",
       "ASSAULT                        89508\n",
       "OTHER OFFENSE                  85361\n",
       "BURGLARY                       81668\n",
       "DECEPTIVE PRACTICE             67609\n",
       "MOTOR VEHICLE THEFT            59856\n",
       "ROBBERY                        56092\n",
       "CRIMINAL TRESPASS              36429\n",
       "WEAPONS VIOLATION              16983\n",
       "PUBLIC PEACE VIOLATION         13015\n",
       "OFFENSE INVOLVING CHILDREN     10590\n",
       "CRIM SEXUAL ASSAULT             6298\n",
       "Name: Primary Type, dtype: int64"
      ]
     },
     "execution_count": 44,
     "metadata": {},
     "output_type": "execute_result"
    }
   ],
   "source": [
    "brand_newdf.value_counts()"
   ]
  },
  {
   "cell_type": "code",
   "execution_count": 45,
   "metadata": {},
   "outputs": [
    {
     "data": {
      "text/plain": [
       "0                   BATTERY\n",
       "1                   BATTERY\n",
       "2    PUBLIC PEACE VIOLATION\n",
       "3                   BATTERY\n",
       "4                     THEFT\n",
       "Name: Primary Type, dtype: object"
      ]
     },
     "execution_count": 45,
     "metadata": {},
     "output_type": "execute_result"
    }
   ],
   "source": [
    "brand_newdf.head()"
   ]
  },
  {
   "cell_type": "code",
   "execution_count": 46,
   "metadata": {},
   "outputs": [],
   "source": [
    "# turn it into a pandas datafrane for easy data manipulation\n",
    "brand_newdf = pd.DataFrame(brand_newdf)"
   ]
  },
  {
   "cell_type": "code",
   "execution_count": 47,
   "metadata": {},
   "outputs": [
    {
     "data": {
      "text/html": [
       "<div>\n",
       "<style scoped>\n",
       "    .dataframe tbody tr th:only-of-type {\n",
       "        vertical-align: middle;\n",
       "    }\n",
       "\n",
       "    .dataframe tbody tr th {\n",
       "        vertical-align: top;\n",
       "    }\n",
       "\n",
       "    .dataframe thead th {\n",
       "        text-align: right;\n",
       "    }\n",
       "</style>\n",
       "<table border=\"1\" class=\"dataframe\">\n",
       "  <thead>\n",
       "    <tr style=\"text-align: right;\">\n",
       "      <th></th>\n",
       "      <th>Primary Type</th>\n",
       "    </tr>\n",
       "  </thead>\n",
       "  <tbody>\n",
       "    <tr>\n",
       "      <th>0</th>\n",
       "      <td>BATTERY</td>\n",
       "    </tr>\n",
       "    <tr>\n",
       "      <th>1</th>\n",
       "      <td>BATTERY</td>\n",
       "    </tr>\n",
       "    <tr>\n",
       "      <th>2</th>\n",
       "      <td>PUBLIC PEACE VIOLATION</td>\n",
       "    </tr>\n",
       "    <tr>\n",
       "      <th>3</th>\n",
       "      <td>BATTERY</td>\n",
       "    </tr>\n",
       "    <tr>\n",
       "      <th>4</th>\n",
       "      <td>THEFT</td>\n",
       "    </tr>\n",
       "  </tbody>\n",
       "</table>\n",
       "</div>"
      ],
      "text/plain": [
       "             Primary Type\n",
       "0                 BATTERY\n",
       "1                 BATTERY\n",
       "2  PUBLIC PEACE VIOLATION\n",
       "3                 BATTERY\n",
       "4                   THEFT"
      ]
     },
     "execution_count": 47,
     "metadata": {},
     "output_type": "execute_result"
    }
   ],
   "source": [
    "brand_newdf.head()"
   ]
  },
  {
   "cell_type": "code",
   "execution_count": 48,
   "metadata": {},
   "outputs": [],
   "source": [
    "# run a groupby for crime tpye\n",
    "brand_newdf = brand_newdf.groupby('Primary Type').agg({'Primary Type':'count'})"
   ]
  },
  {
   "cell_type": "code",
   "execution_count": 49,
   "metadata": {},
   "outputs": [
    {
     "data": {
      "text/plain": [
       "0      89508\n",
       "1     258941\n",
       "2      81668\n",
       "3       6298\n",
       "4     152812\n",
       "5      36429\n",
       "6      67609\n",
       "7      59856\n",
       "8     131177\n",
       "9      10590\n",
       "10     85361\n",
       "11     13015\n",
       "12     56092\n",
       "13    321950\n",
       "14     16983\n",
       "Name: Primary Type, dtype: int64"
      ]
     },
     "execution_count": 49,
     "metadata": {},
     "output_type": "execute_result"
    }
   ],
   "source": [
    "# get just the counts of the crimes\n",
    "countsss = brand_newdf.reset_index(drop=True)\n",
    "countsss['Primary Type']"
   ]
  },
  {
   "cell_type": "code",
   "execution_count": 50,
   "metadata": {},
   "outputs": [],
   "source": [
    "#Turn the index into a list\n",
    "crime_list = list(brand_newdf.index)"
   ]
  },
  {
   "cell_type": "code",
   "execution_count": 51,
   "metadata": {},
   "outputs": [
    {
     "data": {
      "text/plain": [
       "['ASSAULT',\n",
       " 'BATTERY',\n",
       " 'BURGLARY',\n",
       " 'CRIM SEXUAL ASSAULT',\n",
       " 'CRIMINAL DAMAGE',\n",
       " 'CRIMINAL TRESPASS',\n",
       " 'DECEPTIVE PRACTICE',\n",
       " 'MOTOR VEHICLE THEFT',\n",
       " 'NARCOTICS',\n",
       " 'OFFENSE INVOLVING CHILDREN',\n",
       " 'OTHER OFFENSE',\n",
       " 'PUBLIC PEACE VIOLATION',\n",
       " 'ROBBERY',\n",
       " 'THEFT',\n",
       " 'WEAPONS VIOLATION']"
      ]
     },
     "execution_count": 51,
     "metadata": {},
     "output_type": "execute_result"
    }
   ],
   "source": [
    "crime_list"
   ]
  },
  {
   "cell_type": "code",
   "execution_count": 52,
   "metadata": {},
   "outputs": [],
   "source": [
    "# Reset the index then Drop it\n",
    "brand_newdf.reset_index(drop=True)\n",
    "crime_count = brand_newdf"
   ]
  },
  {
   "cell_type": "code",
   "execution_count": 53,
   "metadata": {},
   "outputs": [],
   "source": [
    "# Turn the counts into a list\n",
    "crime_count = list(countsss['Primary Type'])"
   ]
  },
  {
   "cell_type": "code",
   "execution_count": 54,
   "metadata": {},
   "outputs": [
    {
     "data": {
      "text/plain": [
       "[89508,\n",
       " 258941,\n",
       " 81668,\n",
       " 6298,\n",
       " 152812,\n",
       " 36429,\n",
       " 67609,\n",
       " 59856,\n",
       " 131177,\n",
       " 10590,\n",
       " 85361,\n",
       " 13015,\n",
       " 56092,\n",
       " 321950,\n",
       " 16983]"
      ]
     },
     "execution_count": 54,
     "metadata": {},
     "output_type": "execute_result"
    }
   ],
   "source": [
    "crime_count"
   ]
  },
  {
   "cell_type": "code",
   "execution_count": 55,
   "metadata": {},
   "outputs": [],
   "source": [
    "# Turn these list into a data frame \n",
    "newer_df = pd.DataFrame(crime_list)"
   ]
  },
  {
   "cell_type": "code",
   "execution_count": 56,
   "metadata": {},
   "outputs": [],
   "source": [
    "newer_df['Count'] = pd.DataFrame(crime_count)"
   ]
  },
  {
   "cell_type": "code",
   "execution_count": 57,
   "metadata": {},
   "outputs": [],
   "source": [
    "newer_df= newer_df.rename(columns = {0:'Crime'})"
   ]
  },
  {
   "cell_type": "code",
   "execution_count": 58,
   "metadata": {},
   "outputs": [],
   "source": [
    "# Sort the Values by Count from largest to smallest\n",
    "newer_df = newer_df.sort_values(by = 'Count', ascending=False)"
   ]
  },
  {
   "cell_type": "markdown",
   "metadata": {},
   "source": [
    "# More Visuals"
   ]
  },
  {
   "cell_type": "code",
   "execution_count": 59,
   "metadata": {},
   "outputs": [
    {
     "data": {
      "text/plain": [
       "<Figure size 1440x1440 with 0 Axes>"
      ]
     },
     "execution_count": 59,
     "metadata": {},
     "output_type": "execute_result"
    },
    {
     "data": {
      "image/png": "[encoded data removed]",
      "text/plain": [
       "<Figure size 432x288 with 1 Axes>"
      ]
     },
     "metadata": {
      "needs_background": "light"
     },
     "output_type": "display_data"
    },
    {
     "data": {
      "text/plain": [
       "<Figure size 1440x1440 with 0 Axes>"
      ]
     },
     "metadata": {},
     "output_type": "display_data"
    }
   ],
   "source": [
    "# Use seaborn to make a nice bar chart with the 15 most occuring crimes in chicago\n",
    "\n",
    "ax = sns.barplot(x=newer_df['Crime'], y= newer_df['Count'], palette = 'rocket')\n",
    "plt.xticks(rotation= 90);\n",
    "ax.set(xlabel='Crime Categories', ylabel= 'Crime Count')\n",
    "plt.title(\"Top 15 Crimes in Chicago\");\n",
    "plt.figure(figsize=[20,20])"
   ]
  },
  {
   "cell_type": "code",
   "execution_count": 60,
   "metadata": {},
   "outputs": [
    {
     "data": {
      "text/html": [
       "<div>\n",
       "<style scoped>\n",
       "    .dataframe tbody tr th:only-of-type {\n",
       "        vertical-align: middle;\n",
       "    }\n",
       "\n",
       "    .dataframe tbody tr th {\n",
       "        vertical-align: top;\n",
       "    }\n",
       "\n",
       "    .dataframe thead th {\n",
       "        text-align: right;\n",
       "    }\n",
       "</style>\n",
       "<table border=\"1\" class=\"dataframe\">\n",
       "  <thead>\n",
       "    <tr style=\"text-align: right;\">\n",
       "      <th></th>\n",
       "      <th>Crime</th>\n",
       "      <th>Count</th>\n",
       "    </tr>\n",
       "  </thead>\n",
       "  <tbody>\n",
       "    <tr>\n",
       "      <th>13</th>\n",
       "      <td>THEFT</td>\n",
       "      <td>321950</td>\n",
       "    </tr>\n",
       "    <tr>\n",
       "      <th>1</th>\n",
       "      <td>BATTERY</td>\n",
       "      <td>258941</td>\n",
       "    </tr>\n",
       "    <tr>\n",
       "      <th>4</th>\n",
       "      <td>CRIMINAL DAMAGE</td>\n",
       "      <td>152812</td>\n",
       "    </tr>\n",
       "    <tr>\n",
       "      <th>8</th>\n",
       "      <td>NARCOTICS</td>\n",
       "      <td>131177</td>\n",
       "    </tr>\n",
       "    <tr>\n",
       "      <th>0</th>\n",
       "      <td>ASSAULT</td>\n",
       "      <td>89508</td>\n",
       "    </tr>\n",
       "  </tbody>\n",
       "</table>\n",
       "</div>"
      ],
      "text/plain": [
       "              Crime   Count\n",
       "13            THEFT  321950\n",
       "1           BATTERY  258941\n",
       "4   CRIMINAL DAMAGE  152812\n",
       "8         NARCOTICS  131177\n",
       "0           ASSAULT   89508"
      ]
     },
     "execution_count": 60,
     "metadata": {},
     "output_type": "execute_result"
    }
   ],
   "source": [
    "newer_df.head()"
   ]
  },
  {
   "cell_type": "code",
   "execution_count": 61,
   "metadata": {},
   "outputs": [],
   "source": [
    "# Made a dataframe of the top 15 crimes where arrest were made.\n",
    "arrest_for_top15_df = arrest_df[arrest_df['Primary Type'].isin(['THEFT','BATTERY','CRIMINAL DAMAGE','NARCOTICS','ASSAULT',                      \n",
    "'OTHER OFFENSE' ,'BURGLARY' ,'DECEPTIVE PRACTICE','MOTOR VEHICLE THEFT','ROBBERY',\n",
    "'CRIMINAL TRESPASS', 'WEAPONS VIOLATION','PUBLIC PEACE VIOLATION','OFFENSE INVOLVING CHILDREN',\n",
    "'CRIM SEXUAL ASSAULT'])]"
   ]
  },
  {
   "cell_type": "code",
   "execution_count": 62,
   "metadata": {},
   "outputs": [
    {
     "data": {
      "text/html": [
       "<div style=\"width:100%;\"><div style=\"position:relative;width:100%;height:0;padding-bottom:60%;\"><iframe src=\"data:text/html;charset=utf-8;base64,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\" style=\"position:absolute;width:100%;height:100%;left:0;top:0;border:none !important;\" allowfullscreen webkitallowfullscreen mozallowfullscreen></iframe></div></div>"
      ],
      "text/plain": [
       "<folium.folium.Map at 0x1a173abb38>"
      ]
     },
     "execution_count": 62,
     "metadata": {},
     "output_type": "execute_result"
    }
   ],
   "source": [
    "# Make a base map of chicago using the mean latitude and longitude of all all crimes\n",
    "chicago_base_map = folium.Map(location =[(df['Latitude'].mean()),(df['Longitude'].mean())])\n",
    "chicago_base_map"
   ]
  },
  {
   "cell_type": "code",
   "execution_count": 63,
   "metadata": {},
   "outputs": [
    {
     "name": "stderr",
     "output_type": "stream",
     "text": [
      "//anaconda3/lib/python3.7/site-packages/ipykernel_launcher.py:2: SettingWithCopyWarning: \n",
      "A value is trying to be set on a copy of a slice from a DataFrame.\n",
      "Try using .loc[row_indexer,col_indexer] = value instead\n",
      "\n",
      "See the caveats in the documentation: http://pandas.pydata.org/pandas-docs/stable/indexing.html#indexing-view-versus-copy\n",
      "  \n"
     ]
    }
   ],
   "source": [
    "# Converted the date dtype from object to datetime\n",
    "arrest_for_top15_df['Date'] = pd.to_datetime(arrest_for_top15_df['Date'])"
   ]
  },
  {
   "cell_type": "code",
   "execution_count": 64,
   "metadata": {},
   "outputs": [
    {
     "data": {
      "text/plain": [
       "Unnamed: 0                       int64\n",
       "ID                               int64\n",
       "Case Number                     object\n",
       "Date                    datetime64[ns]\n",
       "Block                           object\n",
       "IUCR                            object\n",
       "Primary Type                    object\n",
       "Description                     object\n",
       "Location Description            object\n",
       "Arrest                            bool\n",
       "Domestic                          bool\n",
       "District                       float64\n",
       "Ward                           float64\n",
       "Community Area                 float64\n",
       "Year                             int64\n",
       "Latitude                       float64\n",
       "Longitude                      float64\n",
       "Location                        object\n",
       "dtype: object"
      ]
     },
     "execution_count": 64,
     "metadata": {},
     "output_type": "execute_result"
    }
   ],
   "source": [
    "# Checking to see if it worked, and it did.\n",
    "arrest_for_top15_df.dtypes"
   ]
  },
  {
   "cell_type": "code",
   "execution_count": 65,
   "metadata": {},
   "outputs": [],
   "source": [
    "# Run a groupby on location. Then reset the index\n",
    "arrest_location = arrest_for_top15_df.groupby(['Latitude','Longitude']).agg({'ID':'count'}).reset_index()"
   ]
  },
  {
   "cell_type": "code",
   "execution_count": 66,
   "metadata": {},
   "outputs": [
    {
     "data": {
      "text/html": [
       "<div>\n",
       "<style scoped>\n",
       "    .dataframe tbody tr th:only-of-type {\n",
       "        vertical-align: middle;\n",
       "    }\n",
       "\n",
       "    .dataframe tbody tr th {\n",
       "        vertical-align: top;\n",
       "    }\n",
       "\n",
       "    .dataframe thead th {\n",
       "        text-align: right;\n",
       "    }\n",
       "</style>\n",
       "<table border=\"1\" class=\"dataframe\">\n",
       "  <thead>\n",
       "    <tr style=\"text-align: right;\">\n",
       "      <th></th>\n",
       "      <th>Latitude</th>\n",
       "      <th>Longitude</th>\n",
       "      <th>ID</th>\n",
       "    </tr>\n",
       "  </thead>\n",
       "  <tbody>\n",
       "    <tr>\n",
       "      <th>0</th>\n",
       "      <td>36.619446</td>\n",
       "      <td>-91.686566</td>\n",
       "      <td>17</td>\n",
       "    </tr>\n",
       "    <tr>\n",
       "      <th>1</th>\n",
       "      <td>41.644608</td>\n",
       "      <td>-87.613055</td>\n",
       "      <td>1</td>\n",
       "    </tr>\n",
       "    <tr>\n",
       "      <th>2</th>\n",
       "      <td>41.644818</td>\n",
       "      <td>-87.614692</td>\n",
       "      <td>1</td>\n",
       "    </tr>\n",
       "    <tr>\n",
       "      <th>3</th>\n",
       "      <td>41.645076</td>\n",
       "      <td>-87.574483</td>\n",
       "      <td>1</td>\n",
       "    </tr>\n",
       "    <tr>\n",
       "      <th>4</th>\n",
       "      <td>41.645153</td>\n",
       "      <td>-87.541642</td>\n",
       "      <td>1</td>\n",
       "    </tr>\n",
       "  </tbody>\n",
       "</table>\n",
       "</div>"
      ],
      "text/plain": [
       "    Latitude  Longitude  ID\n",
       "0  36.619446 -91.686566  17\n",
       "1  41.644608 -87.613055   1\n",
       "2  41.644818 -87.614692   1\n",
       "3  41.645076 -87.574483   1\n",
       "4  41.645153 -87.541642   1"
      ]
     },
     "execution_count": 66,
     "metadata": {},
     "output_type": "execute_result"
    }
   ],
   "source": [
    "arrest_location.head()"
   ]
  },
  {
   "cell_type": "code",
   "execution_count": 67,
   "metadata": {},
   "outputs": [
    {
     "data": {
      "text/html": [
       "<div>\n",
       "<style scoped>\n",
       "    .dataframe tbody tr th:only-of-type {\n",
       "        vertical-align: middle;\n",
       "    }\n",
       "\n",
       "    .dataframe tbody tr th {\n",
       "        vertical-align: top;\n",
       "    }\n",
       "\n",
       "    .dataframe thead th {\n",
       "        text-align: right;\n",
       "    }\n",
       "</style>\n",
       "<table border=\"1\" class=\"dataframe\">\n",
       "  <thead>\n",
       "    <tr style=\"text-align: right;\">\n",
       "      <th></th>\n",
       "      <th>Unnamed: 0</th>\n",
       "      <th>ID</th>\n",
       "      <th>Case Number</th>\n",
       "      <th>Date</th>\n",
       "      <th>Block</th>\n",
       "      <th>IUCR</th>\n",
       "      <th>Primary Type</th>\n",
       "      <th>Description</th>\n",
       "      <th>Location Description</th>\n",
       "      <th>Arrest</th>\n",
       "      <th>Domestic</th>\n",
       "      <th>District</th>\n",
       "      <th>Ward</th>\n",
       "      <th>Community Area</th>\n",
       "      <th>Year</th>\n",
       "      <th>Latitude</th>\n",
       "      <th>Longitude</th>\n",
       "      <th>Location</th>\n",
       "    </tr>\n",
       "  </thead>\n",
       "  <tbody>\n",
       "    <tr>\n",
       "      <th>0</th>\n",
       "      <td>3</td>\n",
       "      <td>10508693</td>\n",
       "      <td>HZ250496</td>\n",
       "      <td>2016-05-03 23:40:00</td>\n",
       "      <td>013XX S SAWYER AVE</td>\n",
       "      <td>0486</td>\n",
       "      <td>BATTERY</td>\n",
       "      <td>DOMESTIC BATTERY SIMPLE</td>\n",
       "      <td>APARTMENT</td>\n",
       "      <td>True</td>\n",
       "      <td>True</td>\n",
       "      <td>10.0</td>\n",
       "      <td>24.0</td>\n",
       "      <td>29.0</td>\n",
       "      <td>2016</td>\n",
       "      <td>41.864073</td>\n",
       "      <td>-87.706819</td>\n",
       "      <td>[41.864073157, -87.706818608]</td>\n",
       "    </tr>\n",
       "    <tr>\n",
       "      <th>10</th>\n",
       "      <td>1935</td>\n",
       "      <td>10508710</td>\n",
       "      <td>HZ250469</td>\n",
       "      <td>2016-05-03 21:44:00</td>\n",
       "      <td>074XX S SOUTH SHORE DR</td>\n",
       "      <td>143A</td>\n",
       "      <td>WEAPONS VIOLATION</td>\n",
       "      <td>UNLAWFUL POSS OF HANDGUN</td>\n",
       "      <td>VEHICLE NON-COMMERCIAL</td>\n",
       "      <td>True</td>\n",
       "      <td>False</td>\n",
       "      <td>3.0</td>\n",
       "      <td>7.0</td>\n",
       "      <td>43.0</td>\n",
       "      <td>2016</td>\n",
       "      <td>41.761733</td>\n",
       "      <td>-87.558310</td>\n",
       "      <td>[41.761733286, -87.558309979]</td>\n",
       "    </tr>\n",
       "    <tr>\n",
       "      <th>11</th>\n",
       "      <td>2150</td>\n",
       "      <td>10508715</td>\n",
       "      <td>HZ250541</td>\n",
       "      <td>2016-05-03 23:11:00</td>\n",
       "      <td>006XX N WABASH AVE</td>\n",
       "      <td>0486</td>\n",
       "      <td>BATTERY</td>\n",
       "      <td>DOMESTIC BATTERY SIMPLE</td>\n",
       "      <td>SIDEWALK</td>\n",
       "      <td>True</td>\n",
       "      <td>True</td>\n",
       "      <td>18.0</td>\n",
       "      <td>42.0</td>\n",
       "      <td>8.0</td>\n",
       "      <td>2016</td>\n",
       "      <td>41.893027</td>\n",
       "      <td>-87.626751</td>\n",
       "      <td>[41.893026751, -87.626750829]</td>\n",
       "    </tr>\n",
       "    <tr>\n",
       "      <th>56</th>\n",
       "      <td>11666</td>\n",
       "      <td>10509422</td>\n",
       "      <td>HZ250945</td>\n",
       "      <td>2016-05-04 11:15:00</td>\n",
       "      <td>083XX S STEWART AVE</td>\n",
       "      <td>0860</td>\n",
       "      <td>THEFT</td>\n",
       "      <td>RETAIL THEFT</td>\n",
       "      <td>SMALL RETAIL STORE</td>\n",
       "      <td>True</td>\n",
       "      <td>False</td>\n",
       "      <td>6.0</td>\n",
       "      <td>21.0</td>\n",
       "      <td>44.0</td>\n",
       "      <td>2016</td>\n",
       "      <td>41.742710</td>\n",
       "      <td>-87.634088</td>\n",
       "      <td>[41.742710224, -87.634088181]</td>\n",
       "    </tr>\n",
       "    <tr>\n",
       "      <th>82</th>\n",
       "      <td>18272</td>\n",
       "      <td>10509460</td>\n",
       "      <td>HZ250952</td>\n",
       "      <td>2016-05-04 11:30:00</td>\n",
       "      <td>071XX S JEFFERY BLVD</td>\n",
       "      <td>1330</td>\n",
       "      <td>CRIMINAL TRESPASS</td>\n",
       "      <td>TO LAND</td>\n",
       "      <td>DRUG STORE</td>\n",
       "      <td>True</td>\n",
       "      <td>False</td>\n",
       "      <td>3.0</td>\n",
       "      <td>5.0</td>\n",
       "      <td>43.0</td>\n",
       "      <td>2016</td>\n",
       "      <td>41.765756</td>\n",
       "      <td>-87.576292</td>\n",
       "      <td>[41.765755571, -87.576292427]</td>\n",
       "    </tr>\n",
       "  </tbody>\n",
       "</table>\n",
       "</div>"
      ],
      "text/plain": [
       "    Unnamed: 0        ID Case Number                Date  \\\n",
       "0            3  10508693    HZ250496 2016-05-03 23:40:00   \n",
       "10        1935  10508710    HZ250469 2016-05-03 21:44:00   \n",
       "11        2150  10508715    HZ250541 2016-05-03 23:11:00   \n",
       "56       11666  10509422    HZ250945 2016-05-04 11:15:00   \n",
       "82       18272  10509460    HZ250952 2016-05-04 11:30:00   \n",
       "\n",
       "                     Block  IUCR       Primary Type               Description  \\\n",
       "0       013XX S SAWYER AVE  0486            BATTERY   DOMESTIC BATTERY SIMPLE   \n",
       "10  074XX S SOUTH SHORE DR  143A  WEAPONS VIOLATION  UNLAWFUL POSS OF HANDGUN   \n",
       "11      006XX N WABASH AVE  0486            BATTERY   DOMESTIC BATTERY SIMPLE   \n",
       "56     083XX S STEWART AVE  0860              THEFT              RETAIL THEFT   \n",
       "82    071XX S JEFFERY BLVD  1330  CRIMINAL TRESPASS                   TO LAND   \n",
       "\n",
       "      Location Description  Arrest  Domestic  District  Ward  Community Area  \\\n",
       "0                APARTMENT    True      True      10.0  24.0            29.0   \n",
       "10  VEHICLE NON-COMMERCIAL    True     False       3.0   7.0            43.0   \n",
       "11                SIDEWALK    True      True      18.0  42.0             8.0   \n",
       "56      SMALL RETAIL STORE    True     False       6.0  21.0            44.0   \n",
       "82              DRUG STORE    True     False       3.0   5.0            43.0   \n",
       "\n",
       "    Year   Latitude  Longitude                       Location  \n",
       "0   2016  41.864073 -87.706819  [41.864073157, -87.706818608]  \n",
       "10  2016  41.761733 -87.558310  [41.761733286, -87.558309979]  \n",
       "11  2016  41.893027 -87.626751  [41.893026751, -87.626750829]  \n",
       "56  2016  41.742710 -87.634088  [41.742710224, -87.634088181]  \n",
       "82  2016  41.765756 -87.576292  [41.765755571, -87.576292427]  "
      ]
     },
     "execution_count": 67,
     "metadata": {},
     "output_type": "execute_result"
    }
   ],
   "source": [
    "arrest_for_top15_df.head()"
   ]
  },
  {
   "cell_type": "code",
   "execution_count": 68,
   "metadata": {},
   "outputs": [],
   "source": [
    "# Run a groupby on the Crime type to get the count. Then sort the crimes in order by count from highest to lowest\n",
    "top_15_arrest = arrest_for_top15_df.groupby('Primary Type').agg({'ID':'count'},axis=1).sort_values(by='ID', ascending = False)\n",
    "# Rename the ID column as count\n",
    "top_15_arrest.rename({'ID':'Count'},axis=1,inplace=True)"
   ]
  },
  {
   "cell_type": "code",
   "execution_count": 69,
   "metadata": {},
   "outputs": [
    {
     "data": {
      "text/html": [
       "<div>\n",
       "<style scoped>\n",
       "    .dataframe tbody tr th:only-of-type {\n",
       "        vertical-align: middle;\n",
       "    }\n",
       "\n",
       "    .dataframe tbody tr th {\n",
       "        vertical-align: top;\n",
       "    }\n",
       "\n",
       "    .dataframe thead th {\n",
       "        text-align: right;\n",
       "    }\n",
       "</style>\n",
       "<table border=\"1\" class=\"dataframe\">\n",
       "  <thead>\n",
       "    <tr style=\"text-align: right;\">\n",
       "      <th></th>\n",
       "      <th>Count</th>\n",
       "    </tr>\n",
       "    <tr>\n",
       "      <th>Primary Type</th>\n",
       "      <th></th>\n",
       "    </tr>\n",
       "  </thead>\n",
       "  <tbody>\n",
       "    <tr>\n",
       "      <th>NARCOTICS</th>\n",
       "      <td>130277</td>\n",
       "    </tr>\n",
       "    <tr>\n",
       "      <th>BATTERY</th>\n",
       "      <td>59999</td>\n",
       "    </tr>\n",
       "    <tr>\n",
       "      <th>THEFT</th>\n",
       "      <td>36301</td>\n",
       "    </tr>\n",
       "    <tr>\n",
       "      <th>CRIMINAL TRESPASS</th>\n",
       "      <td>25714</td>\n",
       "    </tr>\n",
       "    <tr>\n",
       "      <th>ASSAULT</th>\n",
       "      <td>21180</td>\n",
       "    </tr>\n",
       "  </tbody>\n",
       "</table>\n",
       "</div>"
      ],
      "text/plain": [
       "                    Count\n",
       "Primary Type             \n",
       "NARCOTICS          130277\n",
       "BATTERY             59999\n",
       "THEFT               36301\n",
       "CRIMINAL TRESPASS   25714\n",
       "ASSAULT             21180"
      ]
     },
     "execution_count": 69,
     "metadata": {},
     "output_type": "execute_result"
    }
   ],
   "source": [
    "top_15_arrest.head()"
   ]
  },
  {
   "cell_type": "code",
   "execution_count": 70,
   "metadata": {},
   "outputs": [
    {
     "data": {
      "text/plain": [
       "<Figure size 720x720 with 0 Axes>"
      ]
     },
     "execution_count": 70,
     "metadata": {},
     "output_type": "execute_result"
    },
    {
     "data": {
      "image/png": "[encoded data removed]",
      "text/plain": [
       "<Figure size 720x720 with 1 Axes>"
      ]
     },
     "metadata": {
      "needs_background": "light"
     },
     "output_type": "display_data"
    },
    {
     "data": {
      "text/plain": [
       "<Figure size 720x720 with 0 Axes>"
      ]
     },
     "metadata": {},
     "output_type": "display_data"
    }
   ],
   "source": [
    "# make bar plot of top 15 arrest using seaborn\n",
    "plt.figure(figsize=(10,10))\n",
    "ARchart = sns.barplot(top_15_arrest.index, y=top_15_arrest['Count'], palette = 'RdBu')\n",
    "plt.xticks(rotation=90);\n",
    "plt.title('Top 15 Arrest For Crimes in Chicago');\n",
    "ARchart.set(xlabel='Crime Type',ylabel='Count')\n",
    "plt.figure(figsize=[10,10])"
   ]
  },
  {
   "cell_type": "code",
   "execution_count": 71,
   "metadata": {},
   "outputs": [],
   "source": [
    "# I need date crime and count in a new df and then scatter plot it"
   ]
  },
  {
   "cell_type": "code",
   "execution_count": 72,
   "metadata": {},
   "outputs": [],
   "source": [
    "# Turn the date column from object to datetime\n",
    "df['Date'] = pd.to_datetime(df['Date'])"
   ]
  },
  {
   "cell_type": "code",
   "execution_count": 73,
   "metadata": {},
   "outputs": [],
   "source": [
    "# Drop uneeded columns\n",
    "df.drop(['Description', 'Location','Latitude',\n",
    "       'Longitude', 'Location','Domestic', 'District'], axis =1, inplace =True)"
   ]
  },
  {
   "cell_type": "code",
   "execution_count": 74,
   "metadata": {},
   "outputs": [
    {
     "data": {
      "text/plain": [
       "Index(['Unnamed: 0', 'ID', 'Case Number', 'Date', 'Block', 'IUCR',\n",
       "       'Primary Type', 'Location Description', 'Arrest', 'Ward',\n",
       "       'Community Area', 'Year'],\n",
       "      dtype='object')"
      ]
     },
     "execution_count": 74,
     "metadata": {},
     "output_type": "execute_result"
    }
   ],
   "source": [
    "df.columns"
   ]
  },
  {
   "cell_type": "code",
   "execution_count": 75,
   "metadata": {},
   "outputs": [],
   "source": [
    "df.drop(['Location Description','Ward','Block', 'IUCR'], axis=1, inplace=True)"
   ]
  },
  {
   "cell_type": "code",
   "execution_count": 76,
   "metadata": {},
   "outputs": [
    {
     "data": {
      "text/plain": [
       "Index(['Unnamed: 0', 'ID', 'Case Number', 'Date', 'Primary Type', 'Arrest',\n",
       "       'Community Area', 'Year'],\n",
       "      dtype='object')"
      ]
     },
     "execution_count": 76,
     "metadata": {},
     "output_type": "execute_result"
    }
   ],
   "source": [
    "df.columns"
   ]
  },
  {
   "cell_type": "code",
   "execution_count": 77,
   "metadata": {},
   "outputs": [],
   "source": [
    "df.drop(['Community Area', 'Year'],axis=1, inplace=True)"
   ]
  },
  {
   "cell_type": "code",
   "execution_count": 78,
   "metadata": {},
   "outputs": [
    {
     "data": {
      "text/html": [
       "<div>\n",
       "<style scoped>\n",
       "    .dataframe tbody tr th:only-of-type {\n",
       "        vertical-align: middle;\n",
       "    }\n",
       "\n",
       "    .dataframe tbody tr th {\n",
       "        vertical-align: top;\n",
       "    }\n",
       "\n",
       "    .dataframe thead th {\n",
       "        text-align: right;\n",
       "    }\n",
       "</style>\n",
       "<table border=\"1\" class=\"dataframe\">\n",
       "  <thead>\n",
       "    <tr style=\"text-align: right;\">\n",
       "      <th></th>\n",
       "      <th>Unnamed: 0</th>\n",
       "      <th>ID</th>\n",
       "      <th>Case Number</th>\n",
       "      <th>Date</th>\n",
       "      <th>Primary Type</th>\n",
       "      <th>Arrest</th>\n",
       "    </tr>\n",
       "  </thead>\n",
       "  <tbody>\n",
       "    <tr>\n",
       "      <th>0</th>\n",
       "      <td>3</td>\n",
       "      <td>10508693</td>\n",
       "      <td>HZ250496</td>\n",
       "      <td>2016-05-03 23:40:00</td>\n",
       "      <td>BATTERY</td>\n",
       "      <td>True</td>\n",
       "    </tr>\n",
       "    <tr>\n",
       "      <th>1</th>\n",
       "      <td>89</td>\n",
       "      <td>10508695</td>\n",
       "      <td>HZ250409</td>\n",
       "      <td>2016-05-03 21:40:00</td>\n",
       "      <td>BATTERY</td>\n",
       "      <td>False</td>\n",
       "    </tr>\n",
       "    <tr>\n",
       "      <th>2</th>\n",
       "      <td>197</td>\n",
       "      <td>10508697</td>\n",
       "      <td>HZ250503</td>\n",
       "      <td>2016-05-03 23:31:00</td>\n",
       "      <td>PUBLIC PEACE VIOLATION</td>\n",
       "      <td>False</td>\n",
       "    </tr>\n",
       "    <tr>\n",
       "      <th>3</th>\n",
       "      <td>673</td>\n",
       "      <td>10508698</td>\n",
       "      <td>HZ250424</td>\n",
       "      <td>2016-05-03 22:10:00</td>\n",
       "      <td>BATTERY</td>\n",
       "      <td>False</td>\n",
       "    </tr>\n",
       "    <tr>\n",
       "      <th>4</th>\n",
       "      <td>911</td>\n",
       "      <td>10508699</td>\n",
       "      <td>HZ250455</td>\n",
       "      <td>2016-05-03 22:00:00</td>\n",
       "      <td>THEFT</td>\n",
       "      <td>False</td>\n",
       "    </tr>\n",
       "  </tbody>\n",
       "</table>\n",
       "</div>"
      ],
      "text/plain": [
       "   Unnamed: 0        ID Case Number                Date  \\\n",
       "0           3  10508693    HZ250496 2016-05-03 23:40:00   \n",
       "1          89  10508695    HZ250409 2016-05-03 21:40:00   \n",
       "2         197  10508697    HZ250503 2016-05-03 23:31:00   \n",
       "3         673  10508698    HZ250424 2016-05-03 22:10:00   \n",
       "4         911  10508699    HZ250455 2016-05-03 22:00:00   \n",
       "\n",
       "             Primary Type  Arrest  \n",
       "0                 BATTERY    True  \n",
       "1                 BATTERY   False  \n",
       "2  PUBLIC PEACE VIOLATION   False  \n",
       "3                 BATTERY   False  \n",
       "4                   THEFT   False  "
      ]
     },
     "execution_count": 78,
     "metadata": {},
     "output_type": "execute_result"
    }
   ],
   "source": [
    "df.head()"
   ]
  },
  {
   "cell_type": "code",
   "execution_count": 79,
   "metadata": {},
   "outputs": [
    {
     "name": "stderr",
     "output_type": "stream",
     "text": [
      "//anaconda3/lib/python3.7/site-packages/pandas/core/frame.py:3940: SettingWithCopyWarning: \n",
      "A value is trying to be set on a copy of a slice from a DataFrame\n",
      "\n",
      "See the caveats in the documentation: http://pandas.pydata.org/pandas-docs/stable/indexing.html#indexing-view-versus-copy\n",
      "  errors=errors)\n"
     ]
    }
   ],
   "source": [
    "arrest_for_top15_df.drop(['Description', 'Location','Latitude',\n",
    "       'Longitude', 'Location','Domestic', 'District','Location Description',\n",
    "        'Ward','Block', 'IUCR','Community Area', 'Year' ], axis =1, inplace =True)"
   ]
  },
  {
   "cell_type": "code",
   "execution_count": 80,
   "metadata": {},
   "outputs": [],
   "source": [
    "arrest_crimes_grouped = arrest_for_top15_df.groupby(['Date']).agg({'ID':'count'},axis=1).sort_values('ID', ascending=False)"
   ]
  },
  {
   "cell_type": "code",
   "execution_count": 81,
   "metadata": {},
   "outputs": [],
   "source": [
    "arrest_crimes_grouped.rename({'ID':'Count'}, axis=1, inplace=True)"
   ]
  },
  {
   "cell_type": "code",
   "execution_count": 82,
   "metadata": {},
   "outputs": [],
   "source": [
    "arrest_crimes_grouped.reset_index(inplace=True)"
   ]
  },
  {
   "cell_type": "code",
   "execution_count": 83,
   "metadata": {},
   "outputs": [
    {
     "data": {
      "text/html": [
       "<div>\n",
       "<style scoped>\n",
       "    .dataframe tbody tr th:only-of-type {\n",
       "        vertical-align: middle;\n",
       "    }\n",
       "\n",
       "    .dataframe tbody tr th {\n",
       "        vertical-align: top;\n",
       "    }\n",
       "\n",
       "    .dataframe thead th {\n",
       "        text-align: right;\n",
       "    }\n",
       "</style>\n",
       "<table border=\"1\" class=\"dataframe\">\n",
       "  <thead>\n",
       "    <tr style=\"text-align: right;\">\n",
       "      <th></th>\n",
       "      <th>Date</th>\n",
       "      <th>Count</th>\n",
       "    </tr>\n",
       "  </thead>\n",
       "  <tbody>\n",
       "    <tr>\n",
       "      <th>23</th>\n",
       "      <td>2012-01-01 00:00:00</td>\n",
       "      <td>7</td>\n",
       "    </tr>\n",
       "    <tr>\n",
       "      <th>2</th>\n",
       "      <td>2012-01-01 00:01:00</td>\n",
       "      <td>11</td>\n",
       "    </tr>\n",
       "    <tr>\n",
       "      <th>46982</th>\n",
       "      <td>2012-01-01 00:02:00</td>\n",
       "      <td>2</td>\n",
       "    </tr>\n",
       "    <tr>\n",
       "      <th>200315</th>\n",
       "      <td>2012-01-01 00:03:00</td>\n",
       "      <td>1</td>\n",
       "    </tr>\n",
       "    <tr>\n",
       "      <th>11985</th>\n",
       "      <td>2012-01-01 00:05:00</td>\n",
       "      <td>3</td>\n",
       "    </tr>\n",
       "  </tbody>\n",
       "</table>\n",
       "</div>"
      ],
      "text/plain": [
       "                      Date  Count\n",
       "23     2012-01-01 00:00:00      7\n",
       "2      2012-01-01 00:01:00     11\n",
       "46982  2012-01-01 00:02:00      2\n",
       "200315 2012-01-01 00:03:00      1\n",
       "11985  2012-01-01 00:05:00      3"
      ]
     },
     "execution_count": 83,
     "metadata": {},
     "output_type": "execute_result"
    }
   ],
   "source": [
    "arrest_crimes_grouped.sort_values('Date').head()"
   ]
  },
  {
   "cell_type": "code",
   "execution_count": 84,
   "metadata": {},
   "outputs": [],
   "source": [
    "# Now that we have a total number of crimes for each day,\n",
    "# it would be easier to visualize if we had the total crime for each month\n",
    "# that is what resample does and we take the sum of the arrest per month\n",
    "months_arrest = arrest_crimes_grouped.set_index('Date').resample('M').sum()\n",
    "# resample is very important in regards to time. It generates a unique sampling distribution for months in this case"
   ]
  },
  {
   "cell_type": "code",
   "execution_count": 85,
   "metadata": {},
   "outputs": [
    {
     "name": "stderr",
     "output_type": "stream",
     "text": [
      "//anaconda3/lib/python3.7/site-packages/pandas/plotting/_converter.py:129: FutureWarning: Using an implicitly registered datetime converter for a matplotlib plotting method. The converter was registered by pandas on import. Future versions of pandas will require you to explicitly register matplotlib converters.\n",
      "\n",
      "To register the converters:\n",
      "\t>>> from pandas.plotting import register_matplotlib_converters\n",
      "\t>>> register_matplotlib_converters()\n",
      "  warnings.warn(msg, FutureWarning)\n"
     ]
    },
    {
     "data": {
      "image/png": "[encoded data removed]",
      "text/plain": [
       "<Figure size 432x288 with 1 Axes>"
      ]
     },
     "metadata": {
      "needs_background": "light"
     },
     "output_type": "display_data"
    }
   ],
   "source": [
    "# This scatter plot shows us the number of arrest made per month from 2012 2016.\n",
    "# X is the time so I called the index because it is grouped by months\n",
    "# Y is the arrest counts because that is what I am measuring\n",
    "_2012_chart = sns.scatterplot(months_arrest.index, y = months_arrest['Count'])\n",
    "# Xlim lets us choose where we wants to start and end the X-axis\n",
    "plt.xlim('2012-01-01 00:00:00', '2016-12-31 23:41:00')\n",
    "plt.xticks(rotation = 90);\n",
    "plt.title('Arrest From 2012-2016 ');\n",
    "plt.ylabel('Arrest Count');"
   ]
  },
  {
   "cell_type": "markdown",
   "metadata": {},
   "source": [
    "# Possible Time Series???"
   ]
  },
  {
   "cell_type": "code",
   "execution_count": 86,
   "metadata": {},
   "outputs": [],
   "source": [
    "non_arrest = df[df.Arrest == False]"
   ]
  },
  {
   "cell_type": "code",
   "execution_count": 87,
   "metadata": {},
   "outputs": [
    {
     "data": {
      "text/plain": [
       "(1047308, 6)"
      ]
     },
     "execution_count": 87,
     "metadata": {},
     "output_type": "execute_result"
    }
   ],
   "source": [
    "non_arrest.shape"
   ]
  },
  {
   "cell_type": "code",
   "execution_count": 88,
   "metadata": {},
   "outputs": [
    {
     "data": {
      "text/html": [
       "<div>\n",
       "<style scoped>\n",
       "    .dataframe tbody tr th:only-of-type {\n",
       "        vertical-align: middle;\n",
       "    }\n",
       "\n",
       "    .dataframe tbody tr th {\n",
       "        vertical-align: top;\n",
       "    }\n",
       "\n",
       "    .dataframe thead th {\n",
       "        text-align: right;\n",
       "    }\n",
       "</style>\n",
       "<table border=\"1\" class=\"dataframe\">\n",
       "  <thead>\n",
       "    <tr style=\"text-align: right;\">\n",
       "      <th></th>\n",
       "      <th>Unnamed: 0</th>\n",
       "      <th>ID</th>\n",
       "      <th>Case Number</th>\n",
       "      <th>Date</th>\n",
       "      <th>Primary Type</th>\n",
       "      <th>Arrest</th>\n",
       "    </tr>\n",
       "  </thead>\n",
       "  <tbody>\n",
       "    <tr>\n",
       "      <th>1</th>\n",
       "      <td>89</td>\n",
       "      <td>10508695</td>\n",
       "      <td>HZ250409</td>\n",
       "      <td>2016-05-03 21:40:00</td>\n",
       "      <td>BATTERY</td>\n",
       "      <td>False</td>\n",
       "    </tr>\n",
       "    <tr>\n",
       "      <th>2</th>\n",
       "      <td>197</td>\n",
       "      <td>10508697</td>\n",
       "      <td>HZ250503</td>\n",
       "      <td>2016-05-03 23:31:00</td>\n",
       "      <td>PUBLIC PEACE VIOLATION</td>\n",
       "      <td>False</td>\n",
       "    </tr>\n",
       "    <tr>\n",
       "      <th>3</th>\n",
       "      <td>673</td>\n",
       "      <td>10508698</td>\n",
       "      <td>HZ250424</td>\n",
       "      <td>2016-05-03 22:10:00</td>\n",
       "      <td>BATTERY</td>\n",
       "      <td>False</td>\n",
       "    </tr>\n",
       "    <tr>\n",
       "      <th>4</th>\n",
       "      <td>911</td>\n",
       "      <td>10508699</td>\n",
       "      <td>HZ250455</td>\n",
       "      <td>2016-05-03 22:00:00</td>\n",
       "      <td>THEFT</td>\n",
       "      <td>False</td>\n",
       "    </tr>\n",
       "    <tr>\n",
       "      <th>5</th>\n",
       "      <td>1108</td>\n",
       "      <td>10508702</td>\n",
       "      <td>HZ250447</td>\n",
       "      <td>2016-05-03 22:35:00</td>\n",
       "      <td>BATTERY</td>\n",
       "      <td>False</td>\n",
       "    </tr>\n",
       "  </tbody>\n",
       "</table>\n",
       "</div>"
      ],
      "text/plain": [
       "   Unnamed: 0        ID Case Number                Date  \\\n",
       "1          89  10508695    HZ250409 2016-05-03 21:40:00   \n",
       "2         197  10508697    HZ250503 2016-05-03 23:31:00   \n",
       "3         673  10508698    HZ250424 2016-05-03 22:10:00   \n",
       "4         911  10508699    HZ250455 2016-05-03 22:00:00   \n",
       "5        1108  10508702    HZ250447 2016-05-03 22:35:00   \n",
       "\n",
       "             Primary Type  Arrest  \n",
       "1                 BATTERY   False  \n",
       "2  PUBLIC PEACE VIOLATION   False  \n",
       "3                 BATTERY   False  \n",
       "4                   THEFT   False  \n",
       "5                 BATTERY   False  "
      ]
     },
     "execution_count": 88,
     "metadata": {},
     "output_type": "execute_result"
    }
   ],
   "source": [
    "non_arrest.head()"
   ]
  },
  {
   "cell_type": "code",
   "execution_count": 89,
   "metadata": {},
   "outputs": [],
   "source": [
    "non_arrest_grouped = non_arrest.groupby(['Date','Primary Type']).agg({'ID':'count'},axis=1).sort_values('ID', ascending=False)"
   ]
  },
  {
   "cell_type": "code",
   "execution_count": 90,
   "metadata": {},
   "outputs": [
    {
     "data": {
      "text/html": [
       "<div>\n",
       "<style scoped>\n",
       "    .dataframe tbody tr th:only-of-type {\n",
       "        vertical-align: middle;\n",
       "    }\n",
       "\n",
       "    .dataframe tbody tr th {\n",
       "        vertical-align: top;\n",
       "    }\n",
       "\n",
       "    .dataframe thead th {\n",
       "        text-align: right;\n",
       "    }\n",
       "</style>\n",
       "<table border=\"1\" class=\"dataframe\">\n",
       "  <thead>\n",
       "    <tr style=\"text-align: right;\">\n",
       "      <th></th>\n",
       "      <th></th>\n",
       "      <th>ID</th>\n",
       "    </tr>\n",
       "    <tr>\n",
       "      <th>Date</th>\n",
       "      <th>Primary Type</th>\n",
       "      <th></th>\n",
       "    </tr>\n",
       "  </thead>\n",
       "  <tbody>\n",
       "    <tr>\n",
       "      <th>2012-01-01 00:01:00</th>\n",
       "      <th>THEFT</th>\n",
       "      <td>57</td>\n",
       "    </tr>\n",
       "    <tr>\n",
       "      <th>2013-01-01 09:00:00</th>\n",
       "      <th>THEFT</th>\n",
       "      <td>46</td>\n",
       "    </tr>\n",
       "    <tr>\n",
       "      <th>2012-01-01 09:00:00</th>\n",
       "      <th>THEFT</th>\n",
       "      <td>43</td>\n",
       "    </tr>\n",
       "    <tr>\n",
       "      <th>2014-06-13 08:00:00</th>\n",
       "      <th>THEFT</th>\n",
       "      <td>35</td>\n",
       "    </tr>\n",
       "    <tr>\n",
       "      <th>2012-06-01 09:00:00</th>\n",
       "      <th>THEFT</th>\n",
       "      <td>31</td>\n",
       "    </tr>\n",
       "  </tbody>\n",
       "</table>\n",
       "</div>"
      ],
      "text/plain": [
       "                                  ID\n",
       "Date                Primary Type    \n",
       "2012-01-01 00:01:00 THEFT         57\n",
       "2013-01-01 09:00:00 THEFT         46\n",
       "2012-01-01 09:00:00 THEFT         43\n",
       "2014-06-13 08:00:00 THEFT         35\n",
       "2012-06-01 09:00:00 THEFT         31"
      ]
     },
     "execution_count": 90,
     "metadata": {},
     "output_type": "execute_result"
    }
   ],
   "source": [
    "non_arrest_grouped.head()"
   ]
  },
  {
   "cell_type": "code",
   "execution_count": 91,
   "metadata": {},
   "outputs": [],
   "source": [
    "non_arrest_grouped.rename({'ID':'Count'}, axis=1,inplace=True)"
   ]
  },
  {
   "cell_type": "code",
   "execution_count": 92,
   "metadata": {},
   "outputs": [],
   "source": [
    "non_arrest_grouped.reset_index(inplace=True)"
   ]
  },
  {
   "cell_type": "code",
   "execution_count": 93,
   "metadata": {},
   "outputs": [],
   "source": [
    "months_non_arrest = non_arrest_grouped.set_index('Date').resample('M').sum()"
   ]
  },
  {
   "cell_type": "code",
   "execution_count": 94,
   "metadata": {},
   "outputs": [
    {
     "data": {
      "text/html": [
       "<div>\n",
       "<style scoped>\n",
       "    .dataframe tbody tr th:only-of-type {\n",
       "        vertical-align: middle;\n",
       "    }\n",
       "\n",
       "    .dataframe tbody tr th {\n",
       "        vertical-align: top;\n",
       "    }\n",
       "\n",
       "    .dataframe thead th {\n",
       "        text-align: right;\n",
       "    }\n",
       "</style>\n",
       "<table border=\"1\" class=\"dataframe\">\n",
       "  <thead>\n",
       "    <tr style=\"text-align: right;\">\n",
       "      <th></th>\n",
       "      <th>Count</th>\n",
       "    </tr>\n",
       "    <tr>\n",
       "      <th>Date</th>\n",
       "      <th></th>\n",
       "    </tr>\n",
       "  </thead>\n",
       "  <tbody>\n",
       "    <tr>\n",
       "      <th>2012-01-31</th>\n",
       "      <td>18468</td>\n",
       "    </tr>\n",
       "    <tr>\n",
       "      <th>2012-02-29</th>\n",
       "      <td>16149</td>\n",
       "    </tr>\n",
       "    <tr>\n",
       "      <th>2012-03-31</th>\n",
       "      <td>20068</td>\n",
       "    </tr>\n",
       "    <tr>\n",
       "      <th>2012-04-30</th>\n",
       "      <td>19686</td>\n",
       "    </tr>\n",
       "    <tr>\n",
       "      <th>2012-05-31</th>\n",
       "      <td>22099</td>\n",
       "    </tr>\n",
       "  </tbody>\n",
       "</table>\n",
       "</div>"
      ],
      "text/plain": [
       "            Count\n",
       "Date             \n",
       "2012-01-31  18468\n",
       "2012-02-29  16149\n",
       "2012-03-31  20068\n",
       "2012-04-30  19686\n",
       "2012-05-31  22099"
      ]
     },
     "execution_count": 94,
     "metadata": {},
     "output_type": "execute_result"
    }
   ],
   "source": [
    "months_non_arrest.head()"
   ]
  },
  {
   "cell_type": "code",
   "execution_count": 95,
   "metadata": {},
   "outputs": [
    {
     "data": {
      "text/plain": [
       "Text(0, 0.5, 'Crime Count')"
      ]
     },
     "execution_count": 95,
     "metadata": {},
     "output_type": "execute_result"
    },
    {
     "data": {
      "image/png": "[encoded data removed]",
      "text/plain": [
       "<Figure size 576x576 with 1 Axes>"
      ]
     },
     "metadata": {
      "needs_background": "light"
     },
     "output_type": "display_data"
    }
   ],
   "source": [
    "# This scatter plot shows us the number of non-arrest made per month from 2012 2016.\n",
    "# X is the time so I called the index because it is grouped by months\n",
    "# Y is the non-arrest counts because that is what I am measuring\n",
    "plt.figure(figsize=[8,8])\n",
    "sns.scatterplot(x=months_non_arrest.index, y=months_non_arrest['Count'],color='Red');\n",
    "plt.title('Non-Arrest Crimes in Chicago 2012-2016')\n",
    "plt.xlim('2012-01-01 00:00:00', '2016-12-31 23:41:00');\n",
    "#xlim is so my chart only shows the chart starting and stopping at said intervals\n",
    "plt.xticks(rotation = 45);\n",
    "plt.ylabel('Crime Count')"
   ]
  },
  {
   "cell_type": "code",
   "execution_count": null,
   "metadata": {},
   "outputs": [],
   "source": []
  },
  {
   "cell_type": "code",
   "execution_count": null,
   "metadata": {},
   "outputs": [],
   "source": []
  },
  {
   "cell_type": "code",
   "execution_count": null,
   "metadata": {},
   "outputs": [],
   "source": []
  }
 ],
 "metadata": {
  "kernelspec": {
   "display_name": "Python 3",
   "language": "python",
   "name": "python3"
  },
  "language_info": {
   "codemirror_mode": {
    "name": "ipython",
    "version": 3
   },
   "file_extension": ".py",
   "mimetype": "text/x-python",
   "name": "python",
   "nbconvert_exporter": "python",
   "pygments_lexer": "ipython3",
   "version": "3.7.3"
  }
 },
 "nbformat": 4,
 "nbformat_minor": 4
}
